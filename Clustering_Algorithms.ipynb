{
  "nbformat": 4,
  "nbformat_minor": 0,
  "metadata": {
    "colab": {
      "name": "Clustering Algorithms.ipynb",
      "provenance": [],
      "collapsed_sections": [],
      "authorship_tag": "ABX9TyN5/hjp3ivfJQkgcRkWRmQC",
      "include_colab_link": true
    },
    "kernelspec": {
      "name": "python3",
      "display_name": "Python 3"
    },
    "language_info": {
      "name": "python"
    }
  },
  "cells": [
    {
      "cell_type": "markdown",
      "metadata": {
        "id": "view-in-github",
        "colab_type": "text"
      },
      "source": [
        "<a href=\"https://colab.research.google.com/github/VishalAmbavade/Contelligenz/blob/main/Clustering_Algorithms.ipynb\" target=\"_parent\"><img src=\"https://colab.research.google.com/assets/colab-badge.svg\" alt=\"Open In Colab\"/></a>"
      ]
    },
    {
      "cell_type": "code",
      "metadata": {
        "colab": {
          "base_uri": "https://localhost:8080/"
        },
        "id": "OWT8H7K5O3F-",
        "outputId": "03c0ad7c-e9c6-4156-fe6e-02200976de59"
      },
      "source": [
        "from google.colab import drive\n",
        "drive.mount('/content/gdrive')"
      ],
      "execution_count": null,
      "outputs": [
        {
          "output_type": "stream",
          "name": "stdout",
          "text": [
            "Mounted at /content/gdrive\n"
          ]
        }
      ]
    },
    {
      "cell_type": "code",
      "metadata": {
        "colab": {
          "base_uri": "https://localhost:8080/"
        },
        "id": "zPIQgLS-O_Gm",
        "outputId": "d88c48b2-814f-4e41-8713-05226c5803dc"
      },
      "source": [
        "%cd /content/gdrive/My Drive/Contelligenz Data Science/OTT Recommender System/Data/Raw Data"
      ],
      "execution_count": null,
      "outputs": [
        {
          "output_type": "stream",
          "name": "stdout",
          "text": [
            "/content/gdrive/.shortcut-targets-by-id/1zUX2cs_LUVZEUVWeXs1TjALxiQz0Xuze/OTT Recommender System/Data/Raw Data\n"
          ]
        }
      ]
    },
    {
      "cell_type": "code",
      "metadata": {
        "id": "n_w3d5s5PJlg"
      },
      "source": [
        "import pandas as pd\n",
        "import numpy as np\n",
        "import pickle\n",
        "import re\n",
        "import datetime as dt"
      ],
      "execution_count": null,
      "outputs": []
    },
    {
      "cell_type": "code",
      "metadata": {
        "id": "ia005peaPLgn"
      },
      "source": [
        "df = pickle.load(open('user_events_raw.pkl','rb'))"
      ],
      "execution_count": null,
      "outputs": []
    },
    {
      "cell_type": "code",
      "metadata": {
        "colab": {
          "base_uri": "https://localhost:8080/",
          "height": 287
        },
        "id": "5xfcP5ERPN58",
        "outputId": "7801b4bc-75b7-4f00-fb46-45c0966c4653"
      },
      "source": [
        "df.head()"
      ],
      "execution_count": null,
      "outputs": [
        {
          "output_type": "execute_result",
          "data": {
            "text/html": [
              "<div>\n",
              "<style scoped>\n",
              "    .dataframe tbody tr th:only-of-type {\n",
              "        vertical-align: middle;\n",
              "    }\n",
              "\n",
              "    .dataframe tbody tr th {\n",
              "        vertical-align: top;\n",
              "    }\n",
              "\n",
              "    .dataframe thead th {\n",
              "        text-align: right;\n",
              "    }\n",
              "</style>\n",
              "<table border=\"1\" class=\"dataframe\">\n",
              "  <thead>\n",
              "    <tr style=\"text-align: right;\">\n",
              "      <th></th>\n",
              "      <th>streamid</th>\n",
              "      <th>contentid</th>\n",
              "      <th>userid</th>\n",
              "      <th>subscription_plan_id</th>\n",
              "      <th>watchtime</th>\n",
              "      <th>duration</th>\n",
              "      <th>browser</th>\n",
              "      <th>devicename</th>\n",
              "      <th>country</th>\n",
              "      <th>cityname</th>\n",
              "      <th>subdivisionname</th>\n",
              "    </tr>\n",
              "  </thead>\n",
              "  <tbody>\n",
              "    <tr>\n",
              "      <th>0</th>\n",
              "      <td>04d0a064-b96b-3f49-a8f3-d1f692a9fbb7</td>\n",
              "      <td>6e119257-4599-45f5-878f-2b6ab98ac480</td>\n",
              "      <td>edce2372-1a65-4333-984c-5d5d831e622d</td>\n",
              "      <td>None</td>\n",
              "      <td>2021-05-25 12:33:06</td>\n",
              "      <td>570</td>\n",
              "      <td></td>\n",
              "      <td>Samsung SM-E625F</td>\n",
              "      <td>IN</td>\n",
              "      <td>Tanuku</td>\n",
              "      <td>Andhra Pradesh</td>\n",
              "    </tr>\n",
              "    <tr>\n",
              "      <th>1</th>\n",
              "      <td>edc77967-30a3-3155-87da-141b6441b0d5</td>\n",
              "      <td>ab6c94cd-8000-419e-995c-f97f07ac6ce5</td>\n",
              "      <td>edce2372-1a65-4333-984c-5d5d831e622d</td>\n",
              "      <td>None</td>\n",
              "      <td>2021-05-24 10:37:38</td>\n",
              "      <td>360</td>\n",
              "      <td></td>\n",
              "      <td>Samsung SM-E625F</td>\n",
              "      <td>IN</td>\n",
              "      <td>Tanuku</td>\n",
              "      <td>Andhra Pradesh</td>\n",
              "    </tr>\n",
              "    <tr>\n",
              "      <th>2</th>\n",
              "      <td>9ef047ac-c370-3406-9d8f-1282a82f9157</td>\n",
              "      <td>948927a5-7e54-49f9-9abb-79f1e749acfc</td>\n",
              "      <td>edce2372-1a65-4333-984c-5d5d831e622d</td>\n",
              "      <td>None</td>\n",
              "      <td>2021-05-24 00:09:41</td>\n",
              "      <td>360</td>\n",
              "      <td></td>\n",
              "      <td>Samsung SM-E625F</td>\n",
              "      <td>IN</td>\n",
              "      <td>Tanuku</td>\n",
              "      <td>Andhra Pradesh</td>\n",
              "    </tr>\n",
              "    <tr>\n",
              "      <th>3</th>\n",
              "      <td>652eaa8e-1b83-305c-a2b7-9dc2c81cd348</td>\n",
              "      <td>948927a5-7e54-49f9-9abb-79f1e749acfc</td>\n",
              "      <td>edce2372-1a65-4333-984c-5d5d831e622d</td>\n",
              "      <td>None</td>\n",
              "      <td>2021-05-24 00:00:11</td>\n",
              "      <td>420</td>\n",
              "      <td></td>\n",
              "      <td>Samsung SM-E625F</td>\n",
              "      <td>IN</td>\n",
              "      <td>Hyderabad</td>\n",
              "      <td>Telangana</td>\n",
              "    </tr>\n",
              "    <tr>\n",
              "      <th>4</th>\n",
              "      <td>39aefc2e-0fff-32bb-872d-b33fa0d9a6c2</td>\n",
              "      <td>9b79eb7c-6ca9-4f0a-b1cb-c4afa4ffdffb</td>\n",
              "      <td>edce2372-1a65-4333-984c-5d5d831e622d</td>\n",
              "      <td>None</td>\n",
              "      <td>2021-05-23 23:36:21</td>\n",
              "      <td>240</td>\n",
              "      <td></td>\n",
              "      <td>Samsung SM-E625F</td>\n",
              "      <td>IN</td>\n",
              "      <td>Hyderabad</td>\n",
              "      <td>Telangana</td>\n",
              "    </tr>\n",
              "  </tbody>\n",
              "</table>\n",
              "</div>"
            ],
            "text/plain": [
              "                               streamid  ... subdivisionname\n",
              "0  04d0a064-b96b-3f49-a8f3-d1f692a9fbb7  ...  Andhra Pradesh\n",
              "1  edc77967-30a3-3155-87da-141b6441b0d5  ...  Andhra Pradesh\n",
              "2  9ef047ac-c370-3406-9d8f-1282a82f9157  ...  Andhra Pradesh\n",
              "3  652eaa8e-1b83-305c-a2b7-9dc2c81cd348  ...       Telangana\n",
              "4  39aefc2e-0fff-32bb-872d-b33fa0d9a6c2  ...       Telangana\n",
              "\n",
              "[5 rows x 11 columns]"
            ]
          },
          "metadata": {},
          "execution_count": 5
        }
      ]
    },
    {
      "cell_type": "code",
      "metadata": {
        "colab": {
          "base_uri": "https://localhost:8080/"
        },
        "id": "NPv5vSsiPPzO",
        "outputId": "56a2ab93-3601-44c3-c383-6cc976ec217a"
      },
      "source": [
        "%cd /content/gdrive/My Drive/Contelligenz Data Science/OTT Recommender System/Data/Processed Data"
      ],
      "execution_count": null,
      "outputs": [
        {
          "output_type": "stream",
          "name": "stdout",
          "text": [
            "/content/gdrive/.shortcut-targets-by-id/1zUX2cs_LUVZEUVWeXs1TjALxiQz0Xuze/OTT Recommender System/Data/Processed Data\n"
          ]
        }
      ]
    },
    {
      "cell_type": "code",
      "metadata": {
        "id": "6TAKLrJaPUKx"
      },
      "source": [
        "df2 = pd.read_csv('content_catalog_v3.csv')"
      ],
      "execution_count": null,
      "outputs": []
    },
    {
      "cell_type": "code",
      "metadata": {
        "id": "S2w56nDfPfoT"
      },
      "source": [
        "df2 = df2.rename(columns = {\"video_id\":\"contentid\"})"
      ],
      "execution_count": null,
      "outputs": []
    },
    {
      "cell_type": "code",
      "metadata": {
        "colab": {
          "base_uri": "https://localhost:8080/",
          "height": 559
        },
        "id": "fVWLOyv0PVzP",
        "outputId": "265e30a7-ed3c-4ccc-bcfb-90444a9b979a"
      },
      "source": [
        "df2.head()"
      ],
      "execution_count": null,
      "outputs": [
        {
          "output_type": "execute_result",
          "data": {
            "text/html": [
              "<div>\n",
              "<style scoped>\n",
              "    .dataframe tbody tr th:only-of-type {\n",
              "        vertical-align: middle;\n",
              "    }\n",
              "\n",
              "    .dataframe tbody tr th {\n",
              "        vertical-align: top;\n",
              "    }\n",
              "\n",
              "    .dataframe thead th {\n",
              "        text-align: right;\n",
              "    }\n",
              "</style>\n",
              "<table border=\"1\" class=\"dataframe\">\n",
              "  <thead>\n",
              "    <tr style=\"text-align: right;\">\n",
              "      <th></th>\n",
              "      <th>title</th>\n",
              "      <th>Thumbnail 2X3 URL</th>\n",
              "      <th>runtime</th>\n",
              "      <th>free</th>\n",
              "      <th>parental_rating</th>\n",
              "      <th>Genre</th>\n",
              "      <th>Genre2</th>\n",
              "      <th>Available Geo</th>\n",
              "      <th>publish_date</th>\n",
              "      <th>content_type</th>\n",
              "      <th>total_views</th>\n",
              "      <th>Genres</th>\n",
              "      <th>Key Elements</th>\n",
              "      <th>Cast Popularity</th>\n",
              "      <th>Mood</th>\n",
              "      <th>Audience appeal</th>\n",
              "      <th>Content Exclusivity</th>\n",
              "      <th>Content Language</th>\n",
              "      <th>Is dubbed ?</th>\n",
              "      <th>Original Language</th>\n",
              "      <th>Original industry</th>\n",
              "      <th>Wikipedia URL</th>\n",
              "      <th>IMDB URL</th>\n",
              "      <th>IMDB ID</th>\n",
              "      <th>Original Title</th>\n",
              "      <th>Runtime IMDB</th>\n",
              "      <th>Year</th>\n",
              "      <th>IMDB Rating</th>\n",
              "      <th>IMDB Votes</th>\n",
              "      <th>Plot</th>\n",
              "      <th>Actors</th>\n",
              "      <th>Director</th>\n",
              "      <th>Poster</th>\n",
              "      <th>Release Date</th>\n",
              "      <th>Awards</th>\n",
              "      <th>Award Winning</th>\n",
              "      <th>contentid</th>\n",
              "      <th>video</th>\n",
              "    </tr>\n",
              "  </thead>\n",
              "  <tbody>\n",
              "    <tr>\n",
              "      <th>0</th>\n",
              "      <td>11Th Hour</td>\n",
              "      <td>https://snagfilms-a.akamaihd.net/38c1e2aa-64c1...</td>\n",
              "      <td>11596</td>\n",
              "      <td>False</td>\n",
              "      <td>18+</td>\n",
              "      <td>Drama</td>\n",
              "      <td>NaN</td>\n",
              "      <td>India</td>\n",
              "      <td>08-Apr-21</td>\n",
              "      <td>Originals</td>\n",
              "      <td>9776</td>\n",
              "      <td>Drama, Thriller, Crime</td>\n",
              "      <td>Performances, Plot, Direction, Screenplay</td>\n",
              "      <td>Very Popular</td>\n",
              "      <td>Exciting , Suspenseful</td>\n",
              "      <td>All audience</td>\n",
              "      <td>Exclusive</td>\n",
              "      <td>Telugu</td>\n",
              "      <td>No</td>\n",
              "      <td>Telugu</td>\n",
              "      <td>Tollywood</td>\n",
              "      <td>https://en.wikipedia.org/wiki/11th_Hour_(web_s...</td>\n",
              "      <td>https://www.imdb.com/title/tt13429172</td>\n",
              "      <td>tt13429172</td>\n",
              "      <td>11th Hour</td>\n",
              "      <td>NaN</td>\n",
              "      <td>2021–</td>\n",
              "      <td>6.3</td>\n",
              "      <td>294.0</td>\n",
              "      <td>Courageous, fearless, and ambitious - She's a ...</td>\n",
              "      <td>Tamannaah Bhatia, Richard Bhakti Klein, Rajiv ...</td>\n",
              "      <td>NaN</td>\n",
              "      <td>https://m.media-amazon.com/images/M/MV5BNmYwNj...</td>\n",
              "      <td>08 April 2021</td>\n",
              "      <td>NaN</td>\n",
              "      <td>No</td>\n",
              "      <td>1bf00638-81f4-456b-8d51-e36387a7f7a3</td>\n",
              "      <td>39</td>\n",
              "    </tr>\n",
              "    <tr>\n",
              "      <th>1</th>\n",
              "      <td>Y</td>\n",
              "      <td>https://snagfilms-a.akamaihd.net/38c1e2aa-64c1...</td>\n",
              "      <td>5480</td>\n",
              "      <td>False</td>\n",
              "      <td>13+</td>\n",
              "      <td>Drama</td>\n",
              "      <td>NaN</td>\n",
              "      <td>India</td>\n",
              "      <td>01-Apr-21</td>\n",
              "      <td>Movie</td>\n",
              "      <td>4594</td>\n",
              "      <td>Thriller, Suspense</td>\n",
              "      <td>Plot, Screenplay, Direction, Plot</td>\n",
              "      <td>Popular</td>\n",
              "      <td>Exciting</td>\n",
              "      <td>All audience</td>\n",
              "      <td>Exclusive</td>\n",
              "      <td>Telugu</td>\n",
              "      <td>No</td>\n",
              "      <td>Telugu</td>\n",
              "      <td>Tollywood</td>\n",
              "      <td>0</td>\n",
              "      <td>https://www.imdb.com/title/tt14334034</td>\n",
              "      <td>tt14334034</td>\n",
              "      <td>Y</td>\n",
              "      <td>91 min</td>\n",
              "      <td>2021</td>\n",
              "      <td>8.5</td>\n",
              "      <td>85.0</td>\n",
              "      <td>When a film director is on the lookout for a s...</td>\n",
              "      <td>Raghu Babu, Rahul Ramakrishna, Srikanth, Gemin...</td>\n",
              "      <td>Baalu Adusumilli</td>\n",
              "      <td>https://m.media-amazon.com/images/M/MV5BMzliYj...</td>\n",
              "      <td>02 April 2021</td>\n",
              "      <td>NaN</td>\n",
              "      <td>No</td>\n",
              "      <td>a99c674d-bd5d-4bc5-878f-702bc53ab58d</td>\n",
              "      <td>216</td>\n",
              "    </tr>\n",
              "    <tr>\n",
              "      <th>2</th>\n",
              "      <td>No 1 Yaari With Rana</td>\n",
              "      <td>https://snagfilms-a.akamaihd.net/38c1e2aa-64c1...</td>\n",
              "      <td>20310</td>\n",
              "      <td>False</td>\n",
              "      <td>NR</td>\n",
              "      <td>Talk show</td>\n",
              "      <td>NaN</td>\n",
              "      <td>India</td>\n",
              "      <td>28-Mar-21</td>\n",
              "      <td>Originals</td>\n",
              "      <td>9864</td>\n",
              "      <td>Talk-show</td>\n",
              "      <td>Interaction, Entertainment</td>\n",
              "      <td>Very Popular</td>\n",
              "      <td>Entertaining</td>\n",
              "      <td>All audience</td>\n",
              "      <td>Exclusive</td>\n",
              "      <td>Telugu</td>\n",
              "      <td>No</td>\n",
              "      <td>Telugu</td>\n",
              "      <td>Tollywood</td>\n",
              "      <td>https://en.wikipedia.org/wiki/No._1_Yaari</td>\n",
              "      <td>https://www.imdb.com/title/tt9126600</td>\n",
              "      <td>tt9126600</td>\n",
              "      <td>McDowell's No.1 Yaari with Rana</td>\n",
              "      <td>44 min</td>\n",
              "      <td>2017–2021</td>\n",
              "      <td>7.2</td>\n",
              "      <td>27.0</td>\n",
              "      <td>No.1 Yaari with Rana Season 2 is a chat show w...</td>\n",
              "      <td>Nag Ashwin, Vijay Deverakonda, Rana Daggubati</td>\n",
              "      <td>NaN</td>\n",
              "      <td>https://m.media-amazon.com/images/M/MV5BYzliNj...</td>\n",
              "      <td>28 March 2021</td>\n",
              "      <td>NaN</td>\n",
              "      <td>No</td>\n",
              "      <td>a15df463-f33c-4b5c-b85c-392f9f5093d7</td>\n",
              "      <td>208</td>\n",
              "    </tr>\n",
              "    <tr>\n",
              "      <th>3</th>\n",
              "      <td>Thellavarithe Guruvaram</td>\n",
              "      <td>https://snagfilms-a.akamaihd.net/38c1e2aa-64c1...</td>\n",
              "      <td>7088</td>\n",
              "      <td>False</td>\n",
              "      <td>13+</td>\n",
              "      <td>Romance</td>\n",
              "      <td>Comedy</td>\n",
              "      <td>India</td>\n",
              "      <td>15-Apr-21</td>\n",
              "      <td>Movie</td>\n",
              "      <td>676</td>\n",
              "      <td>Comedy, Romance</td>\n",
              "      <td>Plot, Screenplay, Direction, Entertainment</td>\n",
              "      <td>Popular</td>\n",
              "      <td>Funny , Feel Good , Exciting</td>\n",
              "      <td>All audience</td>\n",
              "      <td>Exclusive</td>\n",
              "      <td>Telugu</td>\n",
              "      <td>No</td>\n",
              "      <td>Telugu</td>\n",
              "      <td>Tollywood</td>\n",
              "      <td>https://en.wikipedia.org/wiki/Thellavarithe_Gu...</td>\n",
              "      <td>https://www.imdb.com/title/tt13843858</td>\n",
              "      <td>tt13843858</td>\n",
              "      <td>Thellavarithe Guruvaram</td>\n",
              "      <td>120 min</td>\n",
              "      <td>2021</td>\n",
              "      <td>6.9</td>\n",
              "      <td>390.0</td>\n",
              "      <td>Mr. Simha's character is on the verge of getti...</td>\n",
              "      <td>Ajay, Harsha Chemudu, Vajja Venkata Giridhar</td>\n",
              "      <td>Manikanth Gelli</td>\n",
              "      <td>https://m.media-amazon.com/images/M/MV5BYWNhMD...</td>\n",
              "      <td>27 March 2021</td>\n",
              "      <td>NaN</td>\n",
              "      <td>No</td>\n",
              "      <td>1685b28d-1966-4d5a-8119-e8379d0f40a2</td>\n",
              "      <td>32</td>\n",
              "    </tr>\n",
              "    <tr>\n",
              "      <th>4</th>\n",
              "      <td>Chaavu Kaburu Challaga</td>\n",
              "      <td>https://snagfilms-a.akamaihd.net/38c1e2aa-64c1...</td>\n",
              "      <td>7576</td>\n",
              "      <td>False</td>\n",
              "      <td>13+</td>\n",
              "      <td>Drama</td>\n",
              "      <td>NaN</td>\n",
              "      <td>India</td>\n",
              "      <td>22-Apr-21</td>\n",
              "      <td>Movie</td>\n",
              "      <td>21805</td>\n",
              "      <td>Comedy, Romance</td>\n",
              "      <td>Plot, Plot, Direction</td>\n",
              "      <td>Very Popular</td>\n",
              "      <td>Funny , Emotional , Feel Good</td>\n",
              "      <td>All audience</td>\n",
              "      <td>Exclusive</td>\n",
              "      <td>Telugu</td>\n",
              "      <td>No</td>\n",
              "      <td>Telugu</td>\n",
              "      <td>Tollywood</td>\n",
              "      <td>https://en.wikipedia.org/wiki/Chaavu_Kaburu_Ch...</td>\n",
              "      <td>https://www.imdb.com/title/tt13130198</td>\n",
              "      <td>tt13130198</td>\n",
              "      <td>Chaavu Kaburu Challaga</td>\n",
              "      <td>137 min</td>\n",
              "      <td>2021</td>\n",
              "      <td>6.0</td>\n",
              "      <td>631.0</td>\n",
              "      <td>A mortuary van driver experiences love at firs...</td>\n",
              "      <td>Kartikeya Gummakonda, Lavanya Tripathi, Aamani</td>\n",
              "      <td>Koushik Pegallapati</td>\n",
              "      <td>https://m.media-amazon.com/images/M/MV5BMGU2M2...</td>\n",
              "      <td>19 March 2021</td>\n",
              "      <td>NaN</td>\n",
              "      <td>No</td>\n",
              "      <td>132237d6-404f-48cd-abce-296e7a3d4f1e</td>\n",
              "      <td>27</td>\n",
              "    </tr>\n",
              "  </tbody>\n",
              "</table>\n",
              "</div>"
            ],
            "text/plain": [
              "                     title  ... video\n",
              "0                11Th Hour  ...    39\n",
              "1                        Y  ...   216\n",
              "2     No 1 Yaari With Rana  ...   208\n",
              "3  Thellavarithe Guruvaram  ...    32\n",
              "4   Chaavu Kaburu Challaga  ...    27\n",
              "\n",
              "[5 rows x 38 columns]"
            ]
          },
          "metadata": {},
          "execution_count": 9
        }
      ]
    },
    {
      "cell_type": "code",
      "metadata": {
        "id": "MvBXNyLwPXSL"
      },
      "source": [
        "watchHistory = df[['userid', 'contentid', 'watchtime', 'duration']]"
      ],
      "execution_count": null,
      "outputs": []
    },
    {
      "cell_type": "code",
      "metadata": {
        "id": "yeRIVge2P64K"
      },
      "source": [
        "catalogue = df2[['contentid', 'Genres', 'Mood', 'Actors', 'IMDB Rating', 'publish_date', 'parental_rating', 'runtime']]"
      ],
      "execution_count": null,
      "outputs": []
    },
    {
      "cell_type": "code",
      "metadata": {
        "colab": {
          "base_uri": "https://localhost:8080/",
          "height": 203
        },
        "id": "MLZ8FBUSRKxO",
        "outputId": "018538ca-7874-475c-c6c4-aeb6cc024a06"
      },
      "source": [
        "catalogue.head()"
      ],
      "execution_count": null,
      "outputs": [
        {
          "output_type": "execute_result",
          "data": {
            "text/html": [
              "<div>\n",
              "<style scoped>\n",
              "    .dataframe tbody tr th:only-of-type {\n",
              "        vertical-align: middle;\n",
              "    }\n",
              "\n",
              "    .dataframe tbody tr th {\n",
              "        vertical-align: top;\n",
              "    }\n",
              "\n",
              "    .dataframe thead th {\n",
              "        text-align: right;\n",
              "    }\n",
              "</style>\n",
              "<table border=\"1\" class=\"dataframe\">\n",
              "  <thead>\n",
              "    <tr style=\"text-align: right;\">\n",
              "      <th></th>\n",
              "      <th>contentid</th>\n",
              "      <th>Genres</th>\n",
              "      <th>Mood</th>\n",
              "      <th>Actors</th>\n",
              "      <th>IMDB Rating</th>\n",
              "      <th>publish_date</th>\n",
              "      <th>parental_rating</th>\n",
              "      <th>runtime</th>\n",
              "    </tr>\n",
              "  </thead>\n",
              "  <tbody>\n",
              "    <tr>\n",
              "      <th>0</th>\n",
              "      <td>1bf00638-81f4-456b-8d51-e36387a7f7a3</td>\n",
              "      <td>Drama, Thriller, Crime</td>\n",
              "      <td>Exciting , Suspenseful</td>\n",
              "      <td>Tamannaah Bhatia, Richard Bhakti Klein, Rajiv ...</td>\n",
              "      <td>6.3</td>\n",
              "      <td>08-Apr-21</td>\n",
              "      <td>18+</td>\n",
              "      <td>11596</td>\n",
              "    </tr>\n",
              "    <tr>\n",
              "      <th>1</th>\n",
              "      <td>a99c674d-bd5d-4bc5-878f-702bc53ab58d</td>\n",
              "      <td>Thriller, Suspense</td>\n",
              "      <td>Exciting</td>\n",
              "      <td>Raghu Babu, Rahul Ramakrishna, Srikanth, Gemin...</td>\n",
              "      <td>8.5</td>\n",
              "      <td>01-Apr-21</td>\n",
              "      <td>13+</td>\n",
              "      <td>5480</td>\n",
              "    </tr>\n",
              "    <tr>\n",
              "      <th>2</th>\n",
              "      <td>a15df463-f33c-4b5c-b85c-392f9f5093d7</td>\n",
              "      <td>Talk-show</td>\n",
              "      <td>Entertaining</td>\n",
              "      <td>Nag Ashwin, Vijay Deverakonda, Rana Daggubati</td>\n",
              "      <td>7.2</td>\n",
              "      <td>28-Mar-21</td>\n",
              "      <td>NR</td>\n",
              "      <td>20310</td>\n",
              "    </tr>\n",
              "    <tr>\n",
              "      <th>3</th>\n",
              "      <td>1685b28d-1966-4d5a-8119-e8379d0f40a2</td>\n",
              "      <td>Comedy, Romance</td>\n",
              "      <td>Funny , Feel Good , Exciting</td>\n",
              "      <td>Ajay, Harsha Chemudu, Vajja Venkata Giridhar</td>\n",
              "      <td>6.9</td>\n",
              "      <td>15-Apr-21</td>\n",
              "      <td>13+</td>\n",
              "      <td>7088</td>\n",
              "    </tr>\n",
              "    <tr>\n",
              "      <th>4</th>\n",
              "      <td>132237d6-404f-48cd-abce-296e7a3d4f1e</td>\n",
              "      <td>Comedy, Romance</td>\n",
              "      <td>Funny , Emotional , Feel Good</td>\n",
              "      <td>Kartikeya Gummakonda, Lavanya Tripathi, Aamani</td>\n",
              "      <td>6.0</td>\n",
              "      <td>22-Apr-21</td>\n",
              "      <td>13+</td>\n",
              "      <td>7576</td>\n",
              "    </tr>\n",
              "  </tbody>\n",
              "</table>\n",
              "</div>"
            ],
            "text/plain": [
              "                              contentid  ... runtime\n",
              "0  1bf00638-81f4-456b-8d51-e36387a7f7a3  ...   11596\n",
              "1  a99c674d-bd5d-4bc5-878f-702bc53ab58d  ...    5480\n",
              "2  a15df463-f33c-4b5c-b85c-392f9f5093d7  ...   20310\n",
              "3  1685b28d-1966-4d5a-8119-e8379d0f40a2  ...    7088\n",
              "4  132237d6-404f-48cd-abce-296e7a3d4f1e  ...    7576\n",
              "\n",
              "[5 rows x 8 columns]"
            ]
          },
          "metadata": {},
          "execution_count": 12
        }
      ]
    },
    {
      "cell_type": "code",
      "metadata": {
        "colab": {
          "base_uri": "https://localhost:8080/"
        },
        "id": "rhpMAWtxRPPv",
        "outputId": "23903325-2ed0-48e7-f032-a1f3067363b4"
      },
      "source": [
        "catalogue.parental_rating.unique()"
      ],
      "execution_count": null,
      "outputs": [
        {
          "output_type": "execute_result",
          "data": {
            "text/plain": [
              "array(['18+', '13+', 'NR', 'U', 'UA', 'A'], dtype=object)"
            ]
          },
          "metadata": {},
          "execution_count": 13
        }
      ]
    },
    {
      "cell_type": "code",
      "metadata": {
        "colab": {
          "base_uri": "https://localhost:8080/"
        },
        "id": "UlG9jmg1SCWn",
        "outputId": "f0e4cf40-b764-4ab3-bcac-41b508e7d2cd"
      },
      "source": [
        "type(catalogue.publish_date[1])"
      ],
      "execution_count": null,
      "outputs": [
        {
          "output_type": "execute_result",
          "data": {
            "text/plain": [
              "str"
            ]
          },
          "metadata": {},
          "execution_count": 14
        }
      ]
    },
    {
      "cell_type": "code",
      "metadata": {
        "id": "K4mcFqqcSUrL"
      },
      "source": [
        "df3 = pd.merge(watchHistory, catalogue, on = 'contentid', how = 'left')"
      ],
      "execution_count": null,
      "outputs": []
    },
    {
      "cell_type": "code",
      "metadata": {
        "colab": {
          "base_uri": "https://localhost:8080/",
          "height": 304
        },
        "id": "OEMIpE8RWVxq",
        "outputId": "08b2ae2d-007f-43bf-d9a4-c410ca24363b"
      },
      "source": [
        "df3.head()"
      ],
      "execution_count": null,
      "outputs": [
        {
          "output_type": "execute_result",
          "data": {
            "text/html": [
              "<div>\n",
              "<style scoped>\n",
              "    .dataframe tbody tr th:only-of-type {\n",
              "        vertical-align: middle;\n",
              "    }\n",
              "\n",
              "    .dataframe tbody tr th {\n",
              "        vertical-align: top;\n",
              "    }\n",
              "\n",
              "    .dataframe thead th {\n",
              "        text-align: right;\n",
              "    }\n",
              "</style>\n",
              "<table border=\"1\" class=\"dataframe\">\n",
              "  <thead>\n",
              "    <tr style=\"text-align: right;\">\n",
              "      <th></th>\n",
              "      <th>userid</th>\n",
              "      <th>contentid</th>\n",
              "      <th>watchtime</th>\n",
              "      <th>duration</th>\n",
              "      <th>Genres</th>\n",
              "      <th>Mood</th>\n",
              "      <th>Actors</th>\n",
              "      <th>IMDB Rating</th>\n",
              "      <th>publish_date</th>\n",
              "      <th>parental_rating</th>\n",
              "      <th>runtime</th>\n",
              "    </tr>\n",
              "  </thead>\n",
              "  <tbody>\n",
              "    <tr>\n",
              "      <th>0</th>\n",
              "      <td>edce2372-1a65-4333-984c-5d5d831e622d</td>\n",
              "      <td>6e119257-4599-45f5-878f-2b6ab98ac480</td>\n",
              "      <td>2021-05-25 12:33:06</td>\n",
              "      <td>570</td>\n",
              "      <td>NaN</td>\n",
              "      <td>NaN</td>\n",
              "      <td>NaN</td>\n",
              "      <td>NaN</td>\n",
              "      <td>NaN</td>\n",
              "      <td>NaN</td>\n",
              "      <td>NaN</td>\n",
              "    </tr>\n",
              "    <tr>\n",
              "      <th>1</th>\n",
              "      <td>edce2372-1a65-4333-984c-5d5d831e622d</td>\n",
              "      <td>ab6c94cd-8000-419e-995c-f97f07ac6ce5</td>\n",
              "      <td>2021-05-24 10:37:38</td>\n",
              "      <td>360</td>\n",
              "      <td>NaN</td>\n",
              "      <td>NaN</td>\n",
              "      <td>NaN</td>\n",
              "      <td>NaN</td>\n",
              "      <td>NaN</td>\n",
              "      <td>NaN</td>\n",
              "      <td>NaN</td>\n",
              "    </tr>\n",
              "    <tr>\n",
              "      <th>2</th>\n",
              "      <td>edce2372-1a65-4333-984c-5d5d831e622d</td>\n",
              "      <td>948927a5-7e54-49f9-9abb-79f1e749acfc</td>\n",
              "      <td>2021-05-24 00:09:41</td>\n",
              "      <td>360</td>\n",
              "      <td>Comedy, Drama, Romance</td>\n",
              "      <td>Entertaining , Playful</td>\n",
              "      <td>Chiranjeevi, Madhavi, Maruthirao Gollapudi, Po...</td>\n",
              "      <td>8.0</td>\n",
              "      <td>29-May-20</td>\n",
              "      <td>NR</td>\n",
              "      <td>7525.0</td>\n",
              "    </tr>\n",
              "    <tr>\n",
              "      <th>3</th>\n",
              "      <td>edce2372-1a65-4333-984c-5d5d831e622d</td>\n",
              "      <td>948927a5-7e54-49f9-9abb-79f1e749acfc</td>\n",
              "      <td>2021-05-24 00:00:11</td>\n",
              "      <td>420</td>\n",
              "      <td>Comedy, Drama, Romance</td>\n",
              "      <td>Entertaining , Playful</td>\n",
              "      <td>Chiranjeevi, Madhavi, Maruthirao Gollapudi, Po...</td>\n",
              "      <td>8.0</td>\n",
              "      <td>29-May-20</td>\n",
              "      <td>NR</td>\n",
              "      <td>7525.0</td>\n",
              "    </tr>\n",
              "    <tr>\n",
              "      <th>4</th>\n",
              "      <td>edce2372-1a65-4333-984c-5d5d831e622d</td>\n",
              "      <td>9b79eb7c-6ca9-4f0a-b1cb-c4afa4ffdffb</td>\n",
              "      <td>2021-05-23 23:36:21</td>\n",
              "      <td>240</td>\n",
              "      <td>Action, Adventure, Romance</td>\n",
              "      <td>Exciting , Playful</td>\n",
              "      <td>Karthi, Rakul Preet Singh, Karthik, Prakash Raj</td>\n",
              "      <td>4.8</td>\n",
              "      <td>21-Oct-20</td>\n",
              "      <td>U</td>\n",
              "      <td>9204.0</td>\n",
              "    </tr>\n",
              "  </tbody>\n",
              "</table>\n",
              "</div>"
            ],
            "text/plain": [
              "                                 userid  ... runtime\n",
              "0  edce2372-1a65-4333-984c-5d5d831e622d  ...     NaN\n",
              "1  edce2372-1a65-4333-984c-5d5d831e622d  ...     NaN\n",
              "2  edce2372-1a65-4333-984c-5d5d831e622d  ...  7525.0\n",
              "3  edce2372-1a65-4333-984c-5d5d831e622d  ...  7525.0\n",
              "4  edce2372-1a65-4333-984c-5d5d831e622d  ...  9204.0\n",
              "\n",
              "[5 rows x 11 columns]"
            ]
          },
          "metadata": {},
          "execution_count": 16
        }
      ]
    },
    {
      "cell_type": "code",
      "metadata": {
        "id": "jAkLNEIIWXfA"
      },
      "source": [
        "df3_grouped = df3.groupby(['userid', 'contentid']).agg({'duration':'sum', 'runtime':'first', 'watchtime':'first', 'Genres':'first', 'Mood':'first', 'Actors':'first', 'IMDB Rating':'first', 'publish_date':'first', 'parental_rating':'first'})"
      ],
      "execution_count": null,
      "outputs": []
    },
    {
      "cell_type": "code",
      "metadata": {
        "id": "KEIK0hrCWzfc"
      },
      "source": [
        "df3_grouped['view_percent'] = df3_grouped['duration'] / df3_grouped['runtime']"
      ],
      "execution_count": null,
      "outputs": []
    },
    {
      "cell_type": "code",
      "metadata": {
        "id": "czPQmfRZXB8r"
      },
      "source": [
        "df_grouped = df3_grouped.reset_index()"
      ],
      "execution_count": null,
      "outputs": []
    },
    {
      "cell_type": "code",
      "metadata": {
        "colab": {
          "base_uri": "https://localhost:8080/"
        },
        "id": "B6L0dcj7XEEY",
        "outputId": "bd1d6f1b-7156-40a3-c9d7-f05f63d6aba0"
      },
      "source": [
        "df3_grouped.isna().sum()"
      ],
      "execution_count": null,
      "outputs": [
        {
          "output_type": "execute_result",
          "data": {
            "text/plain": [
              "duration                0\n",
              "runtime            642832\n",
              "watchtime               0\n",
              "Genres             642832\n",
              "Mood               642832\n",
              "Actors             642980\n",
              "IMDB Rating        643067\n",
              "publish_date       642832\n",
              "parental_rating    642832\n",
              "view_percent       642832\n",
              "dtype: int64"
            ]
          },
          "metadata": {},
          "execution_count": 20
        }
      ]
    },
    {
      "cell_type": "code",
      "metadata": {
        "colab": {
          "base_uri": "https://localhost:8080/"
        },
        "id": "aJTNuLVrYTyb",
        "outputId": "d9b43b48-0d75-406a-f1fb-95db80cd5584"
      },
      "source": [
        "len(df3_grouped) - df3_grouped.Genres.isna().sum()"
      ],
      "execution_count": null,
      "outputs": [
        {
          "output_type": "execute_result",
          "data": {
            "text/plain": [
              "264639"
            ]
          },
          "metadata": {},
          "execution_count": 21
        }
      ]
    },
    {
      "cell_type": "code",
      "metadata": {
        "id": "Gf9ShdA0YY1W"
      },
      "source": [
        "df3_grouped.dropna(subset=['runtime'], inplace=True)"
      ],
      "execution_count": null,
      "outputs": []
    },
    {
      "cell_type": "code",
      "metadata": {
        "colab": {
          "base_uri": "https://localhost:8080/",
          "height": 1000
        },
        "id": "nCq2Ue-SY0LK",
        "outputId": "0e15c43b-e8dc-477b-c5b5-468afb257205"
      },
      "source": [
        "df3_grouped.reset_index()"
      ],
      "execution_count": null,
      "outputs": [
        {
          "output_type": "execute_result",
          "data": {
            "text/html": [
              "<div>\n",
              "<style scoped>\n",
              "    .dataframe tbody tr th:only-of-type {\n",
              "        vertical-align: middle;\n",
              "    }\n",
              "\n",
              "    .dataframe tbody tr th {\n",
              "        vertical-align: top;\n",
              "    }\n",
              "\n",
              "    .dataframe thead th {\n",
              "        text-align: right;\n",
              "    }\n",
              "</style>\n",
              "<table border=\"1\" class=\"dataframe\">\n",
              "  <thead>\n",
              "    <tr style=\"text-align: right;\">\n",
              "      <th></th>\n",
              "      <th>userid</th>\n",
              "      <th>contentid</th>\n",
              "      <th>duration</th>\n",
              "      <th>runtime</th>\n",
              "      <th>watchtime</th>\n",
              "      <th>Genres</th>\n",
              "      <th>Mood</th>\n",
              "      <th>Actors</th>\n",
              "      <th>IMDB Rating</th>\n",
              "      <th>publish_date</th>\n",
              "      <th>parental_rating</th>\n",
              "      <th>view_percent</th>\n",
              "    </tr>\n",
              "  </thead>\n",
              "  <tbody>\n",
              "    <tr>\n",
              "      <th>0</th>\n",
              "      <td>ebbb77a5e7d1b4083342281ee8b1509cdb486f3b2df993...</td>\n",
              "      <td>1dd5c35f-015a-4529-9d60-8d185b3f6d9f</td>\n",
              "      <td>510</td>\n",
              "      <td>9068.0</td>\n",
              "      <td>2021-05-02 05:57:05</td>\n",
              "      <td>Drama, Thriller, Medical Thriller</td>\n",
              "      <td>Anxious , Depressing , Emotional</td>\n",
              "      <td>Parvathy Thiruvothu, Tovino Thomas, Rima Kalli...</td>\n",
              "      <td>7.9</td>\n",
              "      <td>27-Jan-21</td>\n",
              "      <td>U</td>\n",
              "      <td>0.056242</td>\n",
              "    </tr>\n",
              "    <tr>\n",
              "      <th>1</th>\n",
              "      <td>ebbb8da9-12e9-4826-9d5f-788f7bf2a76e</td>\n",
              "      <td>7eb9b774-9256-4e1b-88a7-22ab39f8e1ad</td>\n",
              "      <td>8550</td>\n",
              "      <td>8639.0</td>\n",
              "      <td>2021-05-11 06:07:56</td>\n",
              "      <td>Action, Drama, Thriller, Vigilante</td>\n",
              "      <td>Unrealistic , Serious , Touching</td>\n",
              "      <td>Sivakarthikeyan, Abhay Deol, Arjun Sarja</td>\n",
              "      <td>6.4</td>\n",
              "      <td>30-Jul-20</td>\n",
              "      <td>U</td>\n",
              "      <td>0.989698</td>\n",
              "    </tr>\n",
              "    <tr>\n",
              "      <th>2</th>\n",
              "      <td>ebbb8da9-12e9-4826-9d5f-788f7bf2a76e</td>\n",
              "      <td>918ca200-8d2a-4236-a825-9ba26d75d922</td>\n",
              "      <td>0</td>\n",
              "      <td>8505.0</td>\n",
              "      <td>2021-05-08 06:09:07</td>\n",
              "      <td>Crime, Mystery, Thriller</td>\n",
              "      <td>Curious , Smart , Suspenseful</td>\n",
              "      <td>Kunchacko Boban, Jinu Joseph, Unnimaya Prasad,...</td>\n",
              "      <td>8.0</td>\n",
              "      <td>18-Feb-21</td>\n",
              "      <td>18+</td>\n",
              "      <td>0.000000</td>\n",
              "    </tr>\n",
              "    <tr>\n",
              "      <th>3</th>\n",
              "      <td>ebbba3b51cd791646e1bce9dfab33f41f9c0d742ef30c4...</td>\n",
              "      <td>1685b28d-1966-4d5a-8119-e8379d0f40a2</td>\n",
              "      <td>0</td>\n",
              "      <td>7088.0</td>\n",
              "      <td>2021-05-18 03:10:27</td>\n",
              "      <td>Comedy, Romance</td>\n",
              "      <td>Funny , Feel Good , Exciting</td>\n",
              "      <td>Ajay, Harsha Chemudu, Vajja Venkata Giridhar</td>\n",
              "      <td>6.9</td>\n",
              "      <td>15-Apr-21</td>\n",
              "      <td>13+</td>\n",
              "      <td>0.000000</td>\n",
              "    </tr>\n",
              "    <tr>\n",
              "      <th>4</th>\n",
              "      <td>ebbba3b51cd791646e1bce9dfab33f41f9c0d742ef30c4...</td>\n",
              "      <td>326d790b-8e0b-4639-8129-53d22a740bfe</td>\n",
              "      <td>6870</td>\n",
              "      <td>7369.0</td>\n",
              "      <td>2021-05-12 13:32:59</td>\n",
              "      <td>Action, Comedy, Horror, Zombie</td>\n",
              "      <td>Anxious , Threatening , Entertaining</td>\n",
              "      <td>Teja Sajja, Anandhi, Daksha Nagarkar, R.J. Hemant</td>\n",
              "      <td>7.3</td>\n",
              "      <td>25-Mar-21</td>\n",
              "      <td>13+</td>\n",
              "      <td>0.932284</td>\n",
              "    </tr>\n",
              "    <tr>\n",
              "      <th>...</th>\n",
              "      <td>...</td>\n",
              "      <td>...</td>\n",
              "      <td>...</td>\n",
              "      <td>...</td>\n",
              "      <td>...</td>\n",
              "      <td>...</td>\n",
              "      <td>...</td>\n",
              "      <td>...</td>\n",
              "      <td>...</td>\n",
              "      <td>...</td>\n",
              "      <td>...</td>\n",
              "      <td>...</td>\n",
              "    </tr>\n",
              "    <tr>\n",
              "      <th>264634</th>\n",
              "      <td>fffff552-8111-4444-9e8c-d6f5f0384d5c</td>\n",
              "      <td>326d790b-8e0b-4639-8129-53d22a740bfe</td>\n",
              "      <td>840</td>\n",
              "      <td>7369.0</td>\n",
              "      <td>2021-04-23 09:13:19</td>\n",
              "      <td>Action, Comedy, Horror, Zombie</td>\n",
              "      <td>Anxious , Threatening , Entertaining</td>\n",
              "      <td>Teja Sajja, Anandhi, Daksha Nagarkar, R.J. Hemant</td>\n",
              "      <td>7.3</td>\n",
              "      <td>25-Mar-21</td>\n",
              "      <td>13+</td>\n",
              "      <td>0.113991</td>\n",
              "    </tr>\n",
              "    <tr>\n",
              "      <th>264635</th>\n",
              "      <td>fffff552-8111-4444-9e8c-d6f5f0384d5c</td>\n",
              "      <td>9fe5e6f7-9def-4b52-8be6-5e74ef517784</td>\n",
              "      <td>1680</td>\n",
              "      <td>9558.0</td>\n",
              "      <td>2021-04-10 13:59:04</td>\n",
              "      <td>Action , Romance</td>\n",
              "      <td>Heavy , Lovable</td>\n",
              "      <td>Allu Arjun, Sheela Kaur, Poonam Bajwa, Prakash...</td>\n",
              "      <td>7.1</td>\n",
              "      <td>17-Aug-20</td>\n",
              "      <td>U</td>\n",
              "      <td>0.175769</td>\n",
              "    </tr>\n",
              "    <tr>\n",
              "      <th>264636</th>\n",
              "      <td>fffff8bc-a107-4ed6-a6e5-4e505a0e5952</td>\n",
              "      <td>132237d6-404f-48cd-abce-296e7a3d4f1e</td>\n",
              "      <td>32940</td>\n",
              "      <td>7576.0</td>\n",
              "      <td>2021-04-23 08:32:26</td>\n",
              "      <td>Comedy, Romance</td>\n",
              "      <td>Funny , Emotional , Feel Good</td>\n",
              "      <td>Kartikeya Gummakonda, Lavanya Tripathi, Aamani</td>\n",
              "      <td>6.0</td>\n",
              "      <td>22-Apr-21</td>\n",
              "      <td>13+</td>\n",
              "      <td>4.347941</td>\n",
              "    </tr>\n",
              "    <tr>\n",
              "      <th>264637</th>\n",
              "      <td>fffff8bc-a107-4ed6-a6e5-4e505a0e5952</td>\n",
              "      <td>1685b28d-1966-4d5a-8119-e8379d0f40a2</td>\n",
              "      <td>31470</td>\n",
              "      <td>7088.0</td>\n",
              "      <td>2021-04-16 03:46:22</td>\n",
              "      <td>Comedy, Romance</td>\n",
              "      <td>Funny , Feel Good , Exciting</td>\n",
              "      <td>Ajay, Harsha Chemudu, Vajja Venkata Giridhar</td>\n",
              "      <td>6.9</td>\n",
              "      <td>15-Apr-21</td>\n",
              "      <td>13+</td>\n",
              "      <td>4.439898</td>\n",
              "    </tr>\n",
              "    <tr>\n",
              "      <th>264638</th>\n",
              "      <td>fffff8bc-a107-4ed6-a6e5-4e505a0e5952</td>\n",
              "      <td>681af8ca-4f02-4daa-aa17-8a95c7510adb</td>\n",
              "      <td>210</td>\n",
              "      <td>8224.0</td>\n",
              "      <td>2021-04-15 11:51:58</td>\n",
              "      <td>Comedy, Drama, Romance</td>\n",
              "      <td>Feel Good , Lovable</td>\n",
              "      <td>Sree Vishnu, Nivetha Pethuraj, Amrutha Sriniva...</td>\n",
              "      <td>7.5</td>\n",
              "      <td>15-Jul-20</td>\n",
              "      <td>13+</td>\n",
              "      <td>0.025535</td>\n",
              "    </tr>\n",
              "  </tbody>\n",
              "</table>\n",
              "<p>264639 rows × 12 columns</p>\n",
              "</div>"
            ],
            "text/plain": [
              "                                                   userid  ... view_percent\n",
              "0       ebbb77a5e7d1b4083342281ee8b1509cdb486f3b2df993...  ...     0.056242\n",
              "1                    ebbb8da9-12e9-4826-9d5f-788f7bf2a76e  ...     0.989698\n",
              "2                    ebbb8da9-12e9-4826-9d5f-788f7bf2a76e  ...     0.000000\n",
              "3       ebbba3b51cd791646e1bce9dfab33f41f9c0d742ef30c4...  ...     0.000000\n",
              "4       ebbba3b51cd791646e1bce9dfab33f41f9c0d742ef30c4...  ...     0.932284\n",
              "...                                                   ...  ...          ...\n",
              "264634               fffff552-8111-4444-9e8c-d6f5f0384d5c  ...     0.113991\n",
              "264635               fffff552-8111-4444-9e8c-d6f5f0384d5c  ...     0.175769\n",
              "264636               fffff8bc-a107-4ed6-a6e5-4e505a0e5952  ...     4.347941\n",
              "264637               fffff8bc-a107-4ed6-a6e5-4e505a0e5952  ...     4.439898\n",
              "264638               fffff8bc-a107-4ed6-a6e5-4e505a0e5952  ...     0.025535\n",
              "\n",
              "[264639 rows x 12 columns]"
            ]
          },
          "metadata": {},
          "execution_count": 23
        }
      ]
    },
    {
      "cell_type": "code",
      "metadata": {
        "id": "myxkdsh0Y5xz"
      },
      "source": [
        "df3_grouped['watchtime'] = df3_grouped['watchtime'].dt.date"
      ],
      "execution_count": null,
      "outputs": []
    },
    {
      "cell_type": "code",
      "metadata": {
        "colab": {
          "base_uri": "https://localhost:8080/",
          "height": 556
        },
        "id": "o0fNALS3amk6",
        "outputId": "e3ea851e-57f1-4b69-88a4-08a52b25e4e5"
      },
      "source": [
        "df3_grouped.head()"
      ],
      "execution_count": null,
      "outputs": [
        {
          "output_type": "execute_result",
          "data": {
            "text/html": [
              "<div>\n",
              "<style scoped>\n",
              "    .dataframe tbody tr th:only-of-type {\n",
              "        vertical-align: middle;\n",
              "    }\n",
              "\n",
              "    .dataframe tbody tr th {\n",
              "        vertical-align: top;\n",
              "    }\n",
              "\n",
              "    .dataframe thead th {\n",
              "        text-align: right;\n",
              "    }\n",
              "</style>\n",
              "<table border=\"1\" class=\"dataframe\">\n",
              "  <thead>\n",
              "    <tr style=\"text-align: right;\">\n",
              "      <th></th>\n",
              "      <th></th>\n",
              "      <th>duration</th>\n",
              "      <th>runtime</th>\n",
              "      <th>watchtime</th>\n",
              "      <th>Genres</th>\n",
              "      <th>Mood</th>\n",
              "      <th>Actors</th>\n",
              "      <th>IMDB Rating</th>\n",
              "      <th>publish_date</th>\n",
              "      <th>parental_rating</th>\n",
              "      <th>view_percent</th>\n",
              "    </tr>\n",
              "    <tr>\n",
              "      <th>userid</th>\n",
              "      <th>contentid</th>\n",
              "      <th></th>\n",
              "      <th></th>\n",
              "      <th></th>\n",
              "      <th></th>\n",
              "      <th></th>\n",
              "      <th></th>\n",
              "      <th></th>\n",
              "      <th></th>\n",
              "      <th></th>\n",
              "      <th></th>\n",
              "    </tr>\n",
              "  </thead>\n",
              "  <tbody>\n",
              "    <tr>\n",
              "      <th>ebbb77a5e7d1b4083342281ee8b1509cdb486f3b2df9937cb44d05a79e6b369c</th>\n",
              "      <th>1dd5c35f-015a-4529-9d60-8d185b3f6d9f</th>\n",
              "      <td>510</td>\n",
              "      <td>9068.0</td>\n",
              "      <td>2021-05-02</td>\n",
              "      <td>Drama, Thriller, Medical Thriller</td>\n",
              "      <td>Anxious , Depressing , Emotional</td>\n",
              "      <td>Parvathy Thiruvothu, Tovino Thomas, Rima Kalli...</td>\n",
              "      <td>7.9</td>\n",
              "      <td>27-Jan-21</td>\n",
              "      <td>U</td>\n",
              "      <td>0.056242</td>\n",
              "    </tr>\n",
              "    <tr>\n",
              "      <th rowspan=\"2\" valign=\"top\">ebbb8da9-12e9-4826-9d5f-788f7bf2a76e</th>\n",
              "      <th>7eb9b774-9256-4e1b-88a7-22ab39f8e1ad</th>\n",
              "      <td>8550</td>\n",
              "      <td>8639.0</td>\n",
              "      <td>2021-05-11</td>\n",
              "      <td>Action, Drama, Thriller, Vigilante</td>\n",
              "      <td>Unrealistic , Serious , Touching</td>\n",
              "      <td>Sivakarthikeyan, Abhay Deol, Arjun Sarja</td>\n",
              "      <td>6.4</td>\n",
              "      <td>30-Jul-20</td>\n",
              "      <td>U</td>\n",
              "      <td>0.989698</td>\n",
              "    </tr>\n",
              "    <tr>\n",
              "      <th>918ca200-8d2a-4236-a825-9ba26d75d922</th>\n",
              "      <td>0</td>\n",
              "      <td>8505.0</td>\n",
              "      <td>2021-05-08</td>\n",
              "      <td>Crime, Mystery, Thriller</td>\n",
              "      <td>Curious , Smart , Suspenseful</td>\n",
              "      <td>Kunchacko Boban, Jinu Joseph, Unnimaya Prasad,...</td>\n",
              "      <td>8.0</td>\n",
              "      <td>18-Feb-21</td>\n",
              "      <td>18+</td>\n",
              "      <td>0.000000</td>\n",
              "    </tr>\n",
              "    <tr>\n",
              "      <th rowspan=\"2\" valign=\"top\">ebbba3b51cd791646e1bce9dfab33f41f9c0d742ef30c46af1765023f3ed86b7</th>\n",
              "      <th>1685b28d-1966-4d5a-8119-e8379d0f40a2</th>\n",
              "      <td>0</td>\n",
              "      <td>7088.0</td>\n",
              "      <td>2021-05-18</td>\n",
              "      <td>Comedy, Romance</td>\n",
              "      <td>Funny , Feel Good , Exciting</td>\n",
              "      <td>Ajay, Harsha Chemudu, Vajja Venkata Giridhar</td>\n",
              "      <td>6.9</td>\n",
              "      <td>15-Apr-21</td>\n",
              "      <td>13+</td>\n",
              "      <td>0.000000</td>\n",
              "    </tr>\n",
              "    <tr>\n",
              "      <th>326d790b-8e0b-4639-8129-53d22a740bfe</th>\n",
              "      <td>6870</td>\n",
              "      <td>7369.0</td>\n",
              "      <td>2021-05-12</td>\n",
              "      <td>Action, Comedy, Horror, Zombie</td>\n",
              "      <td>Anxious , Threatening , Entertaining</td>\n",
              "      <td>Teja Sajja, Anandhi, Daksha Nagarkar, R.J. Hemant</td>\n",
              "      <td>7.3</td>\n",
              "      <td>25-Mar-21</td>\n",
              "      <td>13+</td>\n",
              "      <td>0.932284</td>\n",
              "    </tr>\n",
              "  </tbody>\n",
              "</table>\n",
              "</div>"
            ],
            "text/plain": [
              "                                                                                         duration  ...  view_percent\n",
              "userid                                             contentid                                       ...              \n",
              "ebbb77a5e7d1b4083342281ee8b1509cdb486f3b2df9937... 1dd5c35f-015a-4529-9d60-8d185b3f6d9f       510  ...      0.056242\n",
              "ebbb8da9-12e9-4826-9d5f-788f7bf2a76e               7eb9b774-9256-4e1b-88a7-22ab39f8e1ad      8550  ...      0.989698\n",
              "                                                   918ca200-8d2a-4236-a825-9ba26d75d922         0  ...      0.000000\n",
              "ebbba3b51cd791646e1bce9dfab33f41f9c0d742ef30c46... 1685b28d-1966-4d5a-8119-e8379d0f40a2         0  ...      0.000000\n",
              "                                                   326d790b-8e0b-4639-8129-53d22a740bfe      6870  ...      0.932284\n",
              "\n",
              "[5 rows x 10 columns]"
            ]
          },
          "metadata": {},
          "execution_count": 25
        }
      ]
    },
    {
      "cell_type": "code",
      "metadata": {
        "id": "-CK5FRYgatfn"
      },
      "source": [
        "from dateutil.parser import parse"
      ],
      "execution_count": null,
      "outputs": []
    },
    {
      "cell_type": "code",
      "metadata": {
        "id": "TpgkV4gkcKea"
      },
      "source": [
        "df3_grouped['publish_date'] = [parse(x) for x in df3_grouped['publish_date']]"
      ],
      "execution_count": null,
      "outputs": []
    },
    {
      "cell_type": "code",
      "metadata": {
        "colab": {
          "base_uri": "https://localhost:8080/",
          "height": 556
        },
        "id": "4AV7_jLjcSGh",
        "outputId": "008c929f-a772-4b9e-a17d-82b0ae09ad37"
      },
      "source": [
        "df3_grouped.head()"
      ],
      "execution_count": null,
      "outputs": [
        {
          "output_type": "execute_result",
          "data": {
            "text/html": [
              "<div>\n",
              "<style scoped>\n",
              "    .dataframe tbody tr th:only-of-type {\n",
              "        vertical-align: middle;\n",
              "    }\n",
              "\n",
              "    .dataframe tbody tr th {\n",
              "        vertical-align: top;\n",
              "    }\n",
              "\n",
              "    .dataframe thead th {\n",
              "        text-align: right;\n",
              "    }\n",
              "</style>\n",
              "<table border=\"1\" class=\"dataframe\">\n",
              "  <thead>\n",
              "    <tr style=\"text-align: right;\">\n",
              "      <th></th>\n",
              "      <th></th>\n",
              "      <th>duration</th>\n",
              "      <th>runtime</th>\n",
              "      <th>watchtime</th>\n",
              "      <th>Genres</th>\n",
              "      <th>Mood</th>\n",
              "      <th>Actors</th>\n",
              "      <th>IMDB Rating</th>\n",
              "      <th>publish_date</th>\n",
              "      <th>parental_rating</th>\n",
              "      <th>view_percent</th>\n",
              "    </tr>\n",
              "    <tr>\n",
              "      <th>userid</th>\n",
              "      <th>contentid</th>\n",
              "      <th></th>\n",
              "      <th></th>\n",
              "      <th></th>\n",
              "      <th></th>\n",
              "      <th></th>\n",
              "      <th></th>\n",
              "      <th></th>\n",
              "      <th></th>\n",
              "      <th></th>\n",
              "      <th></th>\n",
              "    </tr>\n",
              "  </thead>\n",
              "  <tbody>\n",
              "    <tr>\n",
              "      <th>ebbb77a5e7d1b4083342281ee8b1509cdb486f3b2df9937cb44d05a79e6b369c</th>\n",
              "      <th>1dd5c35f-015a-4529-9d60-8d185b3f6d9f</th>\n",
              "      <td>510</td>\n",
              "      <td>9068.0</td>\n",
              "      <td>2021-05-02</td>\n",
              "      <td>Drama, Thriller, Medical Thriller</td>\n",
              "      <td>Anxious , Depressing , Emotional</td>\n",
              "      <td>Parvathy Thiruvothu, Tovino Thomas, Rima Kalli...</td>\n",
              "      <td>7.9</td>\n",
              "      <td>2021-01-27</td>\n",
              "      <td>U</td>\n",
              "      <td>0.056242</td>\n",
              "    </tr>\n",
              "    <tr>\n",
              "      <th rowspan=\"2\" valign=\"top\">ebbb8da9-12e9-4826-9d5f-788f7bf2a76e</th>\n",
              "      <th>7eb9b774-9256-4e1b-88a7-22ab39f8e1ad</th>\n",
              "      <td>8550</td>\n",
              "      <td>8639.0</td>\n",
              "      <td>2021-05-11</td>\n",
              "      <td>Action, Drama, Thriller, Vigilante</td>\n",
              "      <td>Unrealistic , Serious , Touching</td>\n",
              "      <td>Sivakarthikeyan, Abhay Deol, Arjun Sarja</td>\n",
              "      <td>6.4</td>\n",
              "      <td>2020-07-30</td>\n",
              "      <td>U</td>\n",
              "      <td>0.989698</td>\n",
              "    </tr>\n",
              "    <tr>\n",
              "      <th>918ca200-8d2a-4236-a825-9ba26d75d922</th>\n",
              "      <td>0</td>\n",
              "      <td>8505.0</td>\n",
              "      <td>2021-05-08</td>\n",
              "      <td>Crime, Mystery, Thriller</td>\n",
              "      <td>Curious , Smart , Suspenseful</td>\n",
              "      <td>Kunchacko Boban, Jinu Joseph, Unnimaya Prasad,...</td>\n",
              "      <td>8.0</td>\n",
              "      <td>2021-02-18</td>\n",
              "      <td>18+</td>\n",
              "      <td>0.000000</td>\n",
              "    </tr>\n",
              "    <tr>\n",
              "      <th rowspan=\"2\" valign=\"top\">ebbba3b51cd791646e1bce9dfab33f41f9c0d742ef30c46af1765023f3ed86b7</th>\n",
              "      <th>1685b28d-1966-4d5a-8119-e8379d0f40a2</th>\n",
              "      <td>0</td>\n",
              "      <td>7088.0</td>\n",
              "      <td>2021-05-18</td>\n",
              "      <td>Comedy, Romance</td>\n",
              "      <td>Funny , Feel Good , Exciting</td>\n",
              "      <td>Ajay, Harsha Chemudu, Vajja Venkata Giridhar</td>\n",
              "      <td>6.9</td>\n",
              "      <td>2021-04-15</td>\n",
              "      <td>13+</td>\n",
              "      <td>0.000000</td>\n",
              "    </tr>\n",
              "    <tr>\n",
              "      <th>326d790b-8e0b-4639-8129-53d22a740bfe</th>\n",
              "      <td>6870</td>\n",
              "      <td>7369.0</td>\n",
              "      <td>2021-05-12</td>\n",
              "      <td>Action, Comedy, Horror, Zombie</td>\n",
              "      <td>Anxious , Threatening , Entertaining</td>\n",
              "      <td>Teja Sajja, Anandhi, Daksha Nagarkar, R.J. Hemant</td>\n",
              "      <td>7.3</td>\n",
              "      <td>2021-03-25</td>\n",
              "      <td>13+</td>\n",
              "      <td>0.932284</td>\n",
              "    </tr>\n",
              "  </tbody>\n",
              "</table>\n",
              "</div>"
            ],
            "text/plain": [
              "                                                                                         duration  ...  view_percent\n",
              "userid                                             contentid                                       ...              \n",
              "ebbb77a5e7d1b4083342281ee8b1509cdb486f3b2df9937... 1dd5c35f-015a-4529-9d60-8d185b3f6d9f       510  ...      0.056242\n",
              "ebbb8da9-12e9-4826-9d5f-788f7bf2a76e               7eb9b774-9256-4e1b-88a7-22ab39f8e1ad      8550  ...      0.989698\n",
              "                                                   918ca200-8d2a-4236-a825-9ba26d75d922         0  ...      0.000000\n",
              "ebbba3b51cd791646e1bce9dfab33f41f9c0d742ef30c46... 1685b28d-1966-4d5a-8119-e8379d0f40a2         0  ...      0.000000\n",
              "                                                   326d790b-8e0b-4639-8129-53d22a740bfe      6870  ...      0.932284\n",
              "\n",
              "[5 rows x 10 columns]"
            ]
          },
          "metadata": {},
          "execution_count": 28
        }
      ]
    },
    {
      "cell_type": "code",
      "metadata": {
        "id": "zrG7gmPncpEx"
      },
      "source": [
        "df_neat = pd.concat([df3_grouped, df3_grouped.Genres.str.split(', ', expand = True)], axis = 1)"
      ],
      "execution_count": null,
      "outputs": []
    },
    {
      "cell_type": "code",
      "metadata": {
        "colab": {
          "base_uri": "https://localhost:8080/"
        },
        "id": "d0dJZwdSelhU",
        "outputId": "3bd2ddc9-1e87-4f91-ac59-5c3a8e622398"
      },
      "source": [
        "df_neat.columns"
      ],
      "execution_count": null,
      "outputs": [
        {
          "output_type": "execute_result",
          "data": {
            "text/plain": [
              "Index([       'duration',         'runtime',       'watchtime',\n",
              "                'Genres',            'Mood',          'Actors',\n",
              "           'IMDB Rating',    'publish_date', 'parental_rating',\n",
              "          'view_percent',                 0,                 1,\n",
              "                       2,                 3,                 4],\n",
              "      dtype='object')"
            ]
          },
          "metadata": {},
          "execution_count": 30
        }
      ]
    },
    {
      "cell_type": "code",
      "metadata": {
        "id": "dkeelf80fMfW"
      },
      "source": [
        "df_neat = df_neat.rename(columns = {0:\"Genre1\", 1:\"Genre2\", 2:\"Genre3\", 3:\"Genre4\", 4:\"Genre5\"}, errors = \"raise\")"
      ],
      "execution_count": null,
      "outputs": []
    },
    {
      "cell_type": "code",
      "metadata": {
        "id": "5GaXn3r6frFN"
      },
      "source": [
        "df_neat = pd.concat([df_neat, df_neat.Mood.str.split(', ', expand = True)], axis = 1)"
      ],
      "execution_count": null,
      "outputs": []
    },
    {
      "cell_type": "code",
      "metadata": {
        "id": "sjAh7Ps-f_AI"
      },
      "source": [
        "df_neat = df_neat.rename(columns = {0:\"Mood1\", 1:\"Mood2\", 2:\"Mood3\", 3:\"Mood4\", 4:\"Mood5\"}, errors = \"raise\")"
      ],
      "execution_count": null,
      "outputs": []
    },
    {
      "cell_type": "code",
      "metadata": {
        "id": "4_inD8d4gjQg"
      },
      "source": [
        "df_neat = pd.concat([df_neat, df_neat.Actors.str.split(', ', expand = True)], axis = 1)"
      ],
      "execution_count": null,
      "outputs": []
    },
    {
      "cell_type": "code",
      "metadata": {
        "id": "puTlLcqVhPvz"
      },
      "source": [
        "df_neat = df_neat.rename(columns = {0:\"Actor1\", 1:\"Actor2\", 2:\"Actor3\", 3:\"Actor4\"}, errors = \"raise\")"
      ],
      "execution_count": null,
      "outputs": []
    },
    {
      "cell_type": "code",
      "metadata": {
        "colab": {
          "base_uri": "https://localhost:8080/"
        },
        "id": "T8bfCQytgkve",
        "outputId": "6ca67c04-661a-4633-f725-11a2392bfa83"
      },
      "source": [
        "df_neat.isna().sum()"
      ],
      "execution_count": null,
      "outputs": [
        {
          "output_type": "execute_result",
          "data": {
            "text/plain": [
              "duration                0\n",
              "runtime                 0\n",
              "watchtime               0\n",
              "Genres                  0\n",
              "Mood                    0\n",
              "Actors                148\n",
              "IMDB Rating           235\n",
              "publish_date            0\n",
              "parental_rating         0\n",
              "view_percent            0\n",
              "Genre1                  0\n",
              "Genre2               8301\n",
              "Genre3             143236\n",
              "Genre4             216833\n",
              "Genre5             261324\n",
              "Mood1                   0\n",
              "Mood2               20873\n",
              "Mood3              100943\n",
              "Mood4              262880\n",
              "Mood5              264591\n",
              "Actor1                148\n",
              "Actor2                281\n",
              "Actor3                281\n",
              "Actor4              58539\n",
              "dtype: int64"
            ]
          },
          "metadata": {},
          "execution_count": 36
        }
      ]
    },
    {
      "cell_type": "code",
      "metadata": {
        "id": "fBWmkQwygsGg"
      },
      "source": [
        "df_neat = df_neat.drop(['Genre4', 'Genre5', 'Mood4', 'Mood5', 'Actor4'], axis = 1)"
      ],
      "execution_count": null,
      "outputs": []
    },
    {
      "cell_type": "code",
      "metadata": {
        "id": "vM7zS88biFMT"
      },
      "source": [
        "df_neat['publish_date'] = df_neat['publish_date'].dt.date"
      ],
      "execution_count": null,
      "outputs": []
    },
    {
      "cell_type": "code",
      "metadata": {
        "id": "uPm_W5QL-Kbo"
      },
      "source": [
        "### watchedAfter = the date of realising the movie - the date of watching the movie\n",
        "df_neat['watchedAfter'] = df_neat['publish_date'] - df_neat['watchtime']"
      ],
      "execution_count": null,
      "outputs": []
    },
    {
      "cell_type": "code",
      "metadata": {
        "colab": {
          "base_uri": "https://localhost:8080/",
          "height": 556
        },
        "id": "cV9xAr4tB49r",
        "outputId": "33490bc4-d6c2-4cf6-8722-104d91c08993"
      },
      "source": [
        "df_neat.head()"
      ],
      "execution_count": null,
      "outputs": [
        {
          "output_type": "execute_result",
          "data": {
            "text/html": [
              "<div>\n",
              "<style scoped>\n",
              "    .dataframe tbody tr th:only-of-type {\n",
              "        vertical-align: middle;\n",
              "    }\n",
              "\n",
              "    .dataframe tbody tr th {\n",
              "        vertical-align: top;\n",
              "    }\n",
              "\n",
              "    .dataframe thead th {\n",
              "        text-align: right;\n",
              "    }\n",
              "</style>\n",
              "<table border=\"1\" class=\"dataframe\">\n",
              "  <thead>\n",
              "    <tr style=\"text-align: right;\">\n",
              "      <th></th>\n",
              "      <th></th>\n",
              "      <th>duration</th>\n",
              "      <th>runtime</th>\n",
              "      <th>watchtime</th>\n",
              "      <th>Genres</th>\n",
              "      <th>Mood</th>\n",
              "      <th>Actors</th>\n",
              "      <th>IMDB Rating</th>\n",
              "      <th>publish_date</th>\n",
              "      <th>parental_rating</th>\n",
              "      <th>view_percent</th>\n",
              "      <th>Genre1</th>\n",
              "      <th>Genre2</th>\n",
              "      <th>Genre3</th>\n",
              "      <th>Mood1</th>\n",
              "      <th>Mood2</th>\n",
              "      <th>Mood3</th>\n",
              "      <th>Actor1</th>\n",
              "      <th>Actor2</th>\n",
              "      <th>Actor3</th>\n",
              "      <th>watchedAfter</th>\n",
              "    </tr>\n",
              "    <tr>\n",
              "      <th>userid</th>\n",
              "      <th>contentid</th>\n",
              "      <th></th>\n",
              "      <th></th>\n",
              "      <th></th>\n",
              "      <th></th>\n",
              "      <th></th>\n",
              "      <th></th>\n",
              "      <th></th>\n",
              "      <th></th>\n",
              "      <th></th>\n",
              "      <th></th>\n",
              "      <th></th>\n",
              "      <th></th>\n",
              "      <th></th>\n",
              "      <th></th>\n",
              "      <th></th>\n",
              "      <th></th>\n",
              "      <th></th>\n",
              "      <th></th>\n",
              "      <th></th>\n",
              "      <th></th>\n",
              "    </tr>\n",
              "  </thead>\n",
              "  <tbody>\n",
              "    <tr>\n",
              "      <th>ebbb77a5e7d1b4083342281ee8b1509cdb486f3b2df9937cb44d05a79e6b369c</th>\n",
              "      <th>1dd5c35f-015a-4529-9d60-8d185b3f6d9f</th>\n",
              "      <td>510</td>\n",
              "      <td>9068.0</td>\n",
              "      <td>2021-05-02</td>\n",
              "      <td>Drama, Thriller, Medical Thriller</td>\n",
              "      <td>Anxious , Depressing , Emotional</td>\n",
              "      <td>Parvathy Thiruvothu, Tovino Thomas, Rima Kalli...</td>\n",
              "      <td>7.9</td>\n",
              "      <td>2021-01-27</td>\n",
              "      <td>U</td>\n",
              "      <td>0.056242</td>\n",
              "      <td>Drama</td>\n",
              "      <td>Thriller</td>\n",
              "      <td>Medical Thriller</td>\n",
              "      <td>Anxious</td>\n",
              "      <td>Depressing</td>\n",
              "      <td>Emotional</td>\n",
              "      <td>Parvathy Thiruvothu</td>\n",
              "      <td>Tovino Thomas</td>\n",
              "      <td>Rima Kallingal</td>\n",
              "      <td>-95 days</td>\n",
              "    </tr>\n",
              "    <tr>\n",
              "      <th rowspan=\"2\" valign=\"top\">ebbb8da9-12e9-4826-9d5f-788f7bf2a76e</th>\n",
              "      <th>7eb9b774-9256-4e1b-88a7-22ab39f8e1ad</th>\n",
              "      <td>8550</td>\n",
              "      <td>8639.0</td>\n",
              "      <td>2021-05-11</td>\n",
              "      <td>Action, Drama, Thriller, Vigilante</td>\n",
              "      <td>Unrealistic , Serious , Touching</td>\n",
              "      <td>Sivakarthikeyan, Abhay Deol, Arjun Sarja</td>\n",
              "      <td>6.4</td>\n",
              "      <td>2020-07-30</td>\n",
              "      <td>U</td>\n",
              "      <td>0.989698</td>\n",
              "      <td>Action</td>\n",
              "      <td>Drama</td>\n",
              "      <td>Thriller</td>\n",
              "      <td>Unrealistic</td>\n",
              "      <td>Serious</td>\n",
              "      <td>Touching</td>\n",
              "      <td>Sivakarthikeyan</td>\n",
              "      <td>Abhay Deol</td>\n",
              "      <td>Arjun Sarja</td>\n",
              "      <td>-285 days</td>\n",
              "    </tr>\n",
              "    <tr>\n",
              "      <th>918ca200-8d2a-4236-a825-9ba26d75d922</th>\n",
              "      <td>0</td>\n",
              "      <td>8505.0</td>\n",
              "      <td>2021-05-08</td>\n",
              "      <td>Crime, Mystery, Thriller</td>\n",
              "      <td>Curious , Smart , Suspenseful</td>\n",
              "      <td>Kunchacko Boban, Jinu Joseph, Unnimaya Prasad,...</td>\n",
              "      <td>8.0</td>\n",
              "      <td>2021-02-18</td>\n",
              "      <td>18+</td>\n",
              "      <td>0.000000</td>\n",
              "      <td>Crime</td>\n",
              "      <td>Mystery</td>\n",
              "      <td>Thriller</td>\n",
              "      <td>Curious</td>\n",
              "      <td>Smart</td>\n",
              "      <td>Suspenseful</td>\n",
              "      <td>Kunchacko Boban</td>\n",
              "      <td>Jinu Joseph</td>\n",
              "      <td>Unnimaya Prasad</td>\n",
              "      <td>-79 days</td>\n",
              "    </tr>\n",
              "    <tr>\n",
              "      <th rowspan=\"2\" valign=\"top\">ebbba3b51cd791646e1bce9dfab33f41f9c0d742ef30c46af1765023f3ed86b7</th>\n",
              "      <th>1685b28d-1966-4d5a-8119-e8379d0f40a2</th>\n",
              "      <td>0</td>\n",
              "      <td>7088.0</td>\n",
              "      <td>2021-05-18</td>\n",
              "      <td>Comedy, Romance</td>\n",
              "      <td>Funny , Feel Good , Exciting</td>\n",
              "      <td>Ajay, Harsha Chemudu, Vajja Venkata Giridhar</td>\n",
              "      <td>6.9</td>\n",
              "      <td>2021-04-15</td>\n",
              "      <td>13+</td>\n",
              "      <td>0.000000</td>\n",
              "      <td>Comedy</td>\n",
              "      <td>Romance</td>\n",
              "      <td>None</td>\n",
              "      <td>Funny</td>\n",
              "      <td>Feel Good</td>\n",
              "      <td>Exciting</td>\n",
              "      <td>Ajay</td>\n",
              "      <td>Harsha Chemudu</td>\n",
              "      <td>Vajja Venkata Giridhar</td>\n",
              "      <td>-33 days</td>\n",
              "    </tr>\n",
              "    <tr>\n",
              "      <th>326d790b-8e0b-4639-8129-53d22a740bfe</th>\n",
              "      <td>6870</td>\n",
              "      <td>7369.0</td>\n",
              "      <td>2021-05-12</td>\n",
              "      <td>Action, Comedy, Horror, Zombie</td>\n",
              "      <td>Anxious , Threatening , Entertaining</td>\n",
              "      <td>Teja Sajja, Anandhi, Daksha Nagarkar, R.J. Hemant</td>\n",
              "      <td>7.3</td>\n",
              "      <td>2021-03-25</td>\n",
              "      <td>13+</td>\n",
              "      <td>0.932284</td>\n",
              "      <td>Action</td>\n",
              "      <td>Comedy</td>\n",
              "      <td>Horror</td>\n",
              "      <td>Anxious</td>\n",
              "      <td>Threatening</td>\n",
              "      <td>Entertaining</td>\n",
              "      <td>Teja Sajja</td>\n",
              "      <td>Anandhi</td>\n",
              "      <td>Daksha Nagarkar</td>\n",
              "      <td>-48 days</td>\n",
              "    </tr>\n",
              "  </tbody>\n",
              "</table>\n",
              "</div>"
            ],
            "text/plain": [
              "                                                                                         duration  ...  watchedAfter\n",
              "userid                                             contentid                                       ...              \n",
              "ebbb77a5e7d1b4083342281ee8b1509cdb486f3b2df9937... 1dd5c35f-015a-4529-9d60-8d185b3f6d9f       510  ...      -95 days\n",
              "ebbb8da9-12e9-4826-9d5f-788f7bf2a76e               7eb9b774-9256-4e1b-88a7-22ab39f8e1ad      8550  ...     -285 days\n",
              "                                                   918ca200-8d2a-4236-a825-9ba26d75d922         0  ...      -79 days\n",
              "ebbba3b51cd791646e1bce9dfab33f41f9c0d742ef30c46... 1685b28d-1966-4d5a-8119-e8379d0f40a2         0  ...      -33 days\n",
              "                                                   326d790b-8e0b-4639-8129-53d22a740bfe      6870  ...      -48 days\n",
              "\n",
              "[5 rows x 20 columns]"
            ]
          },
          "metadata": {},
          "execution_count": 40
        }
      ]
    },
    {
      "cell_type": "code",
      "metadata": {
        "id": "2_P34K6vlh35"
      },
      "source": [
        "df_neat = df_neat.reset_index()"
      ],
      "execution_count": null,
      "outputs": []
    },
    {
      "cell_type": "code",
      "metadata": {
        "id": "kDF9WFiphPBi"
      },
      "source": [
        "df_kmeans1 = df_neat[['userid', 'contentid', 'parental_rating', 'Genre1']]"
      ],
      "execution_count": null,
      "outputs": []
    },
    {
      "cell_type": "code",
      "metadata": {
        "colab": {
          "base_uri": "https://localhost:8080/"
        },
        "id": "xlDTNheWkdN3",
        "outputId": "9a2de4f9-d29d-4773-ed01-898fe29234b7"
      },
      "source": [
        "len(df_kmeans1.contentid.unique())"
      ],
      "execution_count": null,
      "outputs": [
        {
          "output_type": "execute_result",
          "data": {
            "text/plain": [
              "292"
            ]
          },
          "metadata": {},
          "execution_count": 65
        }
      ]
    },
    {
      "cell_type": "code",
      "metadata": {
        "colab": {
          "base_uri": "https://localhost:8080/"
        },
        "id": "rO5UciGIlQZz",
        "outputId": "684253bc-c18c-4b71-c450-acd684dd38db"
      },
      "source": [
        "df_kmeans1.info()"
      ],
      "execution_count": null,
      "outputs": [
        {
          "output_type": "stream",
          "name": "stdout",
          "text": [
            "<class 'pandas.core.frame.DataFrame'>\n",
            "RangeIndex: 264639 entries, 0 to 264638\n",
            "Data columns (total 4 columns):\n",
            " #   Column           Non-Null Count   Dtype \n",
            "---  ------           --------------   ----- \n",
            " 0   userid           264639 non-null  object\n",
            " 1   contentid        264639 non-null  object\n",
            " 2   parental_rating  264639 non-null  object\n",
            " 3   Genre1           264639 non-null  object\n",
            "dtypes: object(4)\n",
            "memory usage: 8.1+ MB\n"
          ]
        }
      ]
    },
    {
      "cell_type": "code",
      "metadata": {
        "colab": {
          "base_uri": "https://localhost:8080/"
        },
        "id": "AH5edHcsmDNw",
        "outputId": "253f2b18-6913-474b-a2c5-1d53510665ad"
      },
      "source": [
        "from sklearn.preprocessing import LabelEncoder\n",
        "le = LabelEncoder()\n",
        "df_kmeans1['contentid'] = le.fit_transform(df_kmeans1['contentid'])\n",
        "df_kmeans1['parental_rating'] = le.fit_transform(df_kmeans1['parental_rating'])\n",
        "df_kmeans1['Genre1'] = le.fit_transform(df_kmeans1['Genre1'])"
      ],
      "execution_count": null,
      "outputs": [
        {
          "output_type": "stream",
          "name": "stderr",
          "text": [
            "/usr/local/lib/python3.7/dist-packages/ipykernel_launcher.py:3: SettingWithCopyWarning: \n",
            "A value is trying to be set on a copy of a slice from a DataFrame.\n",
            "Try using .loc[row_indexer,col_indexer] = value instead\n",
            "\n",
            "See the caveats in the documentation: https://pandas.pydata.org/pandas-docs/stable/user_guide/indexing.html#returning-a-view-versus-a-copy\n",
            "  This is separate from the ipykernel package so we can avoid doing imports until\n",
            "/usr/local/lib/python3.7/dist-packages/ipykernel_launcher.py:4: SettingWithCopyWarning: \n",
            "A value is trying to be set on a copy of a slice from a DataFrame.\n",
            "Try using .loc[row_indexer,col_indexer] = value instead\n",
            "\n",
            "See the caveats in the documentation: https://pandas.pydata.org/pandas-docs/stable/user_guide/indexing.html#returning-a-view-versus-a-copy\n",
            "  after removing the cwd from sys.path.\n",
            "/usr/local/lib/python3.7/dist-packages/ipykernel_launcher.py:5: SettingWithCopyWarning: \n",
            "A value is trying to be set on a copy of a slice from a DataFrame.\n",
            "Try using .loc[row_indexer,col_indexer] = value instead\n",
            "\n",
            "See the caveats in the documentation: https://pandas.pydata.org/pandas-docs/stable/user_guide/indexing.html#returning-a-view-versus-a-copy\n",
            "  \"\"\"\n"
          ]
        }
      ]
    },
    {
      "cell_type": "code",
      "metadata": {
        "colab": {
          "base_uri": "https://localhost:8080/",
          "height": 203
        },
        "id": "6V1cm_5sm4Kw",
        "outputId": "894a0b37-f881-4b8c-a2ff-a13b7ececc5e"
      },
      "source": [
        "df_kmeans1.head()"
      ],
      "execution_count": null,
      "outputs": [
        {
          "output_type": "execute_result",
          "data": {
            "text/html": [
              "<div>\n",
              "<style scoped>\n",
              "    .dataframe tbody tr th:only-of-type {\n",
              "        vertical-align: middle;\n",
              "    }\n",
              "\n",
              "    .dataframe tbody tr th {\n",
              "        vertical-align: top;\n",
              "    }\n",
              "\n",
              "    .dataframe thead th {\n",
              "        text-align: right;\n",
              "    }\n",
              "</style>\n",
              "<table border=\"1\" class=\"dataframe\">\n",
              "  <thead>\n",
              "    <tr style=\"text-align: right;\">\n",
              "      <th></th>\n",
              "      <th>userid</th>\n",
              "      <th>contentid</th>\n",
              "      <th>parental_rating</th>\n",
              "      <th>Genre1</th>\n",
              "    </tr>\n",
              "  </thead>\n",
              "  <tbody>\n",
              "    <tr>\n",
              "      <th>0</th>\n",
              "      <td>ebbb77a5e7d1b4083342281ee8b1509cdb486f3b2df993...</td>\n",
              "      <td>40</td>\n",
              "      <td>4</td>\n",
              "      <td>9</td>\n",
              "    </tr>\n",
              "    <tr>\n",
              "      <th>1</th>\n",
              "      <td>ebbb8da9-12e9-4826-9d5f-788f7bf2a76e</td>\n",
              "      <td>151</td>\n",
              "      <td>4</td>\n",
              "      <td>0</td>\n",
              "    </tr>\n",
              "    <tr>\n",
              "      <th>2</th>\n",
              "      <td>ebbb8da9-12e9-4826-9d5f-788f7bf2a76e</td>\n",
              "      <td>182</td>\n",
              "      <td>1</td>\n",
              "      <td>8</td>\n",
              "    </tr>\n",
              "    <tr>\n",
              "      <th>3</th>\n",
              "      <td>ebbba3b51cd791646e1bce9dfab33f41f9c0d742ef30c4...</td>\n",
              "      <td>32</td>\n",
              "      <td>0</td>\n",
              "      <td>6</td>\n",
              "    </tr>\n",
              "    <tr>\n",
              "      <th>4</th>\n",
              "      <td>ebbba3b51cd791646e1bce9dfab33f41f9c0d742ef30c4...</td>\n",
              "      <td>66</td>\n",
              "      <td>0</td>\n",
              "      <td>0</td>\n",
              "    </tr>\n",
              "  </tbody>\n",
              "</table>\n",
              "</div>"
            ],
            "text/plain": [
              "                                              userid  ...  Genre1\n",
              "0  ebbb77a5e7d1b4083342281ee8b1509cdb486f3b2df993...  ...       9\n",
              "1               ebbb8da9-12e9-4826-9d5f-788f7bf2a76e  ...       0\n",
              "2               ebbb8da9-12e9-4826-9d5f-788f7bf2a76e  ...       8\n",
              "3  ebbba3b51cd791646e1bce9dfab33f41f9c0d742ef30c4...  ...       6\n",
              "4  ebbba3b51cd791646e1bce9dfab33f41f9c0d742ef30c4...  ...       0\n",
              "\n",
              "[5 rows x 4 columns]"
            ]
          },
          "metadata": {},
          "execution_count": 68
        }
      ]
    },
    {
      "cell_type": "code",
      "metadata": {
        "id": "pEf3qA8qnHNJ"
      },
      "source": [
        "X = df_kmeans1[['contentid', 'parental_rating', 'Genre1']]\n",
        "cols = X.columns"
      ],
      "execution_count": null,
      "outputs": []
    },
    {
      "cell_type": "code",
      "metadata": {
        "id": "gpGMV3N9nS4P"
      },
      "source": [
        "from sklearn.preprocessing import MinMaxScaler\n",
        "ms = MinMaxScaler()\n",
        "X = ms.fit_transform(X)"
      ],
      "execution_count": null,
      "outputs": []
    },
    {
      "cell_type": "code",
      "metadata": {
        "id": "NVjY6C8vndc0"
      },
      "source": [
        "X = pd.DataFrame(X, columns=[cols])"
      ],
      "execution_count": null,
      "outputs": []
    },
    {
      "cell_type": "code",
      "metadata": {
        "colab": {
          "base_uri": "https://localhost:8080/",
          "height": 203
        },
        "id": "HqCG_mfjnh-g",
        "outputId": "429b270c-2b1f-4a86-9d35-45f8b87a7f1f"
      },
      "source": [
        "X.head()"
      ],
      "execution_count": null,
      "outputs": [
        {
          "output_type": "execute_result",
          "data": {
            "text/html": [
              "<div>\n",
              "<style scoped>\n",
              "    .dataframe tbody tr th:only-of-type {\n",
              "        vertical-align: middle;\n",
              "    }\n",
              "\n",
              "    .dataframe tbody tr th {\n",
              "        vertical-align: top;\n",
              "    }\n",
              "\n",
              "    .dataframe thead th {\n",
              "        text-align: right;\n",
              "    }\n",
              "</style>\n",
              "<table border=\"1\" class=\"dataframe\">\n",
              "  <thead>\n",
              "    <tr style=\"text-align: right;\">\n",
              "      <th></th>\n",
              "      <th>contentid</th>\n",
              "      <th>parental_rating</th>\n",
              "      <th>Genre1</th>\n",
              "    </tr>\n",
              "  </thead>\n",
              "  <tbody>\n",
              "    <tr>\n",
              "      <th>0</th>\n",
              "      <td>40</td>\n",
              "      <td>4</td>\n",
              "      <td>9</td>\n",
              "    </tr>\n",
              "    <tr>\n",
              "      <th>1</th>\n",
              "      <td>151</td>\n",
              "      <td>4</td>\n",
              "      <td>0</td>\n",
              "    </tr>\n",
              "    <tr>\n",
              "      <th>2</th>\n",
              "      <td>182</td>\n",
              "      <td>1</td>\n",
              "      <td>8</td>\n",
              "    </tr>\n",
              "    <tr>\n",
              "      <th>3</th>\n",
              "      <td>32</td>\n",
              "      <td>0</td>\n",
              "      <td>6</td>\n",
              "    </tr>\n",
              "    <tr>\n",
              "      <th>4</th>\n",
              "      <td>66</td>\n",
              "      <td>0</td>\n",
              "      <td>0</td>\n",
              "    </tr>\n",
              "  </tbody>\n",
              "</table>\n",
              "</div>"
            ],
            "text/plain": [
              "   contentid  parental_rating  Genre1\n",
              "0         40                4       9\n",
              "1        151                4       0\n",
              "2        182                1       8\n",
              "3         32                0       6\n",
              "4         66                0       0"
            ]
          },
          "metadata": {},
          "execution_count": 97
        }
      ]
    },
    {
      "cell_type": "code",
      "metadata": {
        "colab": {
          "base_uri": "https://localhost:8080/"
        },
        "id": "IQcwCztZnsV5",
        "outputId": "0809e15a-baa5-43f0-eeed-ccb6ddd67f9b"
      },
      "source": [
        "from sklearn.cluster import KMeans\n",
        "kmeans = KMeans(n_clusters = 3, random_state = 0)\n",
        "kmeans.fit(X)"
      ],
      "execution_count": null,
      "outputs": [
        {
          "output_type": "execute_result",
          "data": {
            "text/plain": [
              "KMeans(algorithm='auto', copy_x=True, init='k-means++', max_iter=300,\n",
              "       n_clusters=3, n_init=10, n_jobs=None, precompute_distances='auto',\n",
              "       random_state=0, tol=0.0001, verbose=0)"
            ]
          },
          "metadata": {},
          "execution_count": 98
        }
      ]
    },
    {
      "cell_type": "code",
      "metadata": {
        "colab": {
          "base_uri": "https://localhost:8080/"
        },
        "id": "wlfgK8Fdn6As",
        "outputId": "8d70abd2-67bb-47da-895a-e0b3901487b4"
      },
      "source": [
        "label = kmeans.fit_predict(X)\n",
        "label"
      ],
      "execution_count": null,
      "outputs": [
        {
          "output_type": "execute_result",
          "data": {
            "text/plain": [
              "array([1, 0, 0, ..., 1, 1, 0], dtype=int32)"
            ]
          },
          "metadata": {},
          "execution_count": 99
        }
      ]
    },
    {
      "cell_type": "code",
      "metadata": {
        "id": "9P79MKY_om-8"
      },
      "source": [
        "X['cluster'] = label"
      ],
      "execution_count": null,
      "outputs": []
    },
    {
      "cell_type": "code",
      "metadata": {
        "colab": {
          "base_uri": "https://localhost:8080/",
          "height": 265
        },
        "id": "gABmYVM1oqyM",
        "outputId": "70526373-40c9-41c2-9bee-4e15e96f194a"
      },
      "source": [
        "filtered_label1 = X[label == 0]\n",
        "filtered_label2 = X[label == 1]\n",
        "filtered_label3 = X[label == 2]\n",
        "\n",
        "plt.scatter(filtered_label1.contentid, filtered_label1.parental_rating, color = 'red', alpha=0.4)\n",
        "plt.scatter(filtered_label2.contentid, filtered_label2.parental_rating, color = 'green', alpha = 0.4)\n",
        "plt.scatter(filtered_label3.contentid, filtered_label3.parental_rating, color = 'black', alpha=0.4)\n",
        "plt.show()"
      ],
      "execution_count": null,
      "outputs": [
        {
          "output_type": "display_data",
          "data": {
            "image/png": "[encoded data removed]",
            "text/plain": [
              "<Figure size 432x288 with 1 Axes>"
            ]
          },
          "metadata": {
            "needs_background": "light"
          }
        }
      ]
    },
    {
      "cell_type": "code",
      "metadata": {
        "id": "HJ3KHFRKp6Ez"
      },
      "source": [
        "df_neat1 = df_neat.loc[df_neat['view_percent'] > 0.0]"
      ],
      "execution_count": null,
      "outputs": []
    },
    {
      "cell_type": "code",
      "metadata": {
        "id": "EP9imDYR_ald",
        "colab": {
          "base_uri": "https://localhost:8080/"
        },
        "outputId": "9c2473fb-e506-40c3-a6ed-f21764afb185"
      },
      "source": [
        "print(len(df_neat))\n",
        "print(len(df_neat1))"
      ],
      "execution_count": null,
      "outputs": [
        {
          "output_type": "stream",
          "name": "stdout",
          "text": [
            "264639\n",
            "230721\n"
          ]
        }
      ]
    },
    {
      "cell_type": "code",
      "metadata": {
        "colab": {
          "base_uri": "https://localhost:8080/",
          "height": 388
        },
        "id": "e37zd77p_y4T",
        "outputId": "bdc74bd8-a19b-484d-85b0-3d8c8e999b89"
      },
      "source": [
        "df_neat1.groupby(['contentid'], sort = False).mean().sort_values(by = 'view_percent',ascending = False).head(10)"
      ],
      "execution_count": null,
      "outputs": [
        {
          "output_type": "execute_result",
          "data": {
            "text/html": [
              "<div>\n",
              "<style scoped>\n",
              "    .dataframe tbody tr th:only-of-type {\n",
              "        vertical-align: middle;\n",
              "    }\n",
              "\n",
              "    .dataframe tbody tr th {\n",
              "        vertical-align: top;\n",
              "    }\n",
              "\n",
              "    .dataframe thead th {\n",
              "        text-align: right;\n",
              "    }\n",
              "</style>\n",
              "<table border=\"1\" class=\"dataframe\">\n",
              "  <thead>\n",
              "    <tr style=\"text-align: right;\">\n",
              "      <th></th>\n",
              "      <th>duration</th>\n",
              "      <th>runtime</th>\n",
              "      <th>IMDB Rating</th>\n",
              "      <th>view_percent</th>\n",
              "    </tr>\n",
              "    <tr>\n",
              "      <th>contentid</th>\n",
              "      <th></th>\n",
              "      <th></th>\n",
              "      <th></th>\n",
              "      <th></th>\n",
              "    </tr>\n",
              "  </thead>\n",
              "  <tbody>\n",
              "    <tr>\n",
              "      <th>04bf71fe-c7df-4209-82e9-59a63bcddcc6</th>\n",
              "      <td>14120.000000</td>\n",
              "      <td>7550.0</td>\n",
              "      <td>7.5</td>\n",
              "      <td>1.870199</td>\n",
              "    </tr>\n",
              "    <tr>\n",
              "      <th>1685b28d-1966-4d5a-8119-e8379d0f40a2</th>\n",
              "      <td>7323.667115</td>\n",
              "      <td>7088.0</td>\n",
              "      <td>6.9</td>\n",
              "      <td>1.033249</td>\n",
              "    </tr>\n",
              "    <tr>\n",
              "      <th>2415b22a-9154-42d1-8cc3-917d7c2f5e12</th>\n",
              "      <td>7312.758621</td>\n",
              "      <td>7171.0</td>\n",
              "      <td>8.2</td>\n",
              "      <td>1.019768</td>\n",
              "    </tr>\n",
              "    <tr>\n",
              "      <th>132237d6-404f-48cd-abce-296e7a3d4f1e</th>\n",
              "      <td>7161.435915</td>\n",
              "      <td>7576.0</td>\n",
              "      <td>6.0</td>\n",
              "      <td>0.945279</td>\n",
              "    </tr>\n",
              "    <tr>\n",
              "      <th>a99c674d-bd5d-4bc5-878f-702bc53ab58d</th>\n",
              "      <td>4815.253703</td>\n",
              "      <td>5480.0</td>\n",
              "      <td>8.5</td>\n",
              "      <td>0.878696</td>\n",
              "    </tr>\n",
              "    <tr>\n",
              "      <th>e03cbedb-21a2-4643-8b4d-aa5ef679c3e6</th>\n",
              "      <td>6828.256824</td>\n",
              "      <td>8276.0</td>\n",
              "      <td>8.0</td>\n",
              "      <td>0.825067</td>\n",
              "    </tr>\n",
              "    <tr>\n",
              "      <th>326d790b-8e0b-4639-8129-53d22a740bfe</th>\n",
              "      <td>6039.653648</td>\n",
              "      <td>7369.0</td>\n",
              "      <td>7.3</td>\n",
              "      <td>0.819603</td>\n",
              "    </tr>\n",
              "    <tr>\n",
              "      <th>02f61ed6-aaf4-480a-94ff-582164ea8ac2</th>\n",
              "      <td>7463.306773</td>\n",
              "      <td>9260.0</td>\n",
              "      <td>5.3</td>\n",
              "      <td>0.805973</td>\n",
              "    </tr>\n",
              "    <tr>\n",
              "      <th>918ca200-8d2a-4236-a825-9ba26d75d922</th>\n",
              "      <td>6846.825000</td>\n",
              "      <td>8505.0</td>\n",
              "      <td>8.0</td>\n",
              "      <td>0.805035</td>\n",
              "    </tr>\n",
              "    <tr>\n",
              "      <th>2d3c6944-c4d6-4c33-a1dc-ef077c01c68a</th>\n",
              "      <td>6304.878273</td>\n",
              "      <td>7957.0</td>\n",
              "      <td>6.6</td>\n",
              "      <td>0.792369</td>\n",
              "    </tr>\n",
              "  </tbody>\n",
              "</table>\n",
              "</div>"
            ],
            "text/plain": [
              "                                          duration  ...  view_percent\n",
              "contentid                                           ...              \n",
              "04bf71fe-c7df-4209-82e9-59a63bcddcc6  14120.000000  ...      1.870199\n",
              "1685b28d-1966-4d5a-8119-e8379d0f40a2   7323.667115  ...      1.033249\n",
              "2415b22a-9154-42d1-8cc3-917d7c2f5e12   7312.758621  ...      1.019768\n",
              "132237d6-404f-48cd-abce-296e7a3d4f1e   7161.435915  ...      0.945279\n",
              "a99c674d-bd5d-4bc5-878f-702bc53ab58d   4815.253703  ...      0.878696\n",
              "e03cbedb-21a2-4643-8b4d-aa5ef679c3e6   6828.256824  ...      0.825067\n",
              "326d790b-8e0b-4639-8129-53d22a740bfe   6039.653648  ...      0.819603\n",
              "02f61ed6-aaf4-480a-94ff-582164ea8ac2   7463.306773  ...      0.805973\n",
              "918ca200-8d2a-4236-a825-9ba26d75d922   6846.825000  ...      0.805035\n",
              "2d3c6944-c4d6-4c33-a1dc-ef077c01c68a   6304.878273  ...      0.792369\n",
              "\n",
              "[10 rows x 4 columns]"
            ]
          },
          "metadata": {},
          "execution_count": 113
        }
      ]
    },
    {
      "cell_type": "code",
      "metadata": {
        "id": "5VdNUdD6AnQq"
      },
      "source": [
        ""
      ],
      "execution_count": null,
      "outputs": []
    }
  ]
}