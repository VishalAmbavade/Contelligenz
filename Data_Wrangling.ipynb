{
  "nbformat": 4,
  "nbformat_minor": 0,
  "metadata": {
    "colab": {
      "name": "Data Wrangling.ipynb",
      "provenance": [],
      "authorship_tag": "ABX9TyNU3RHfTbyavreiiBcNsswM",
      "include_colab_link": true
    },
    "kernelspec": {
      "name": "python3",
      "display_name": "Python 3"
    },
    "language_info": {
      "name": "python"
    }
  },
  "cells": [
    {
      "cell_type": "markdown",
      "metadata": {
        "id": "view-in-github",
        "colab_type": "text"
      },
      "source": [
        "<a href=\"https://colab.research.google.com/github/VishalAmbavade/Contelligenz/blob/main/Data_Wrangling.ipynb\" target=\"_parent\"><img src=\"https://colab.research.google.com/assets/colab-badge.svg\" alt=\"Open In Colab\"/></a>"
      ]
    },
    {
      "cell_type": "code",
      "metadata": {
        "id": "SGDyXJOKMxTU"
      },
      "source": [
        "import pandas as pd\n",
        "import numpy as np"
      ],
      "execution_count": null,
      "outputs": []
    },
    {
      "cell_type": "code",
      "metadata": {
        "colab": {
          "base_uri": "https://localhost:8080/"
        },
        "id": "fvaLmGSiM69S",
        "outputId": "e751d967-a03f-4f64-e9f1-467c69c1bfd0"
      },
      "source": [
        "from google.colab import drive\n",
        "drive.mount('/content/drive')"
      ],
      "execution_count": null,
      "outputs": [
        {
          "output_type": "stream",
          "name": "stdout",
          "text": [
            "Mounted at /content/drive\n"
          ]
        }
      ]
    },
    {
      "cell_type": "code",
      "metadata": {
        "id": "zSJbxlHKNQ2E"
      },
      "source": [
        "df = pd.read_csv('drive/MyDrive/Contelligenz Data Science/Datasets/user_profile_with_recommendations_v1.csv')\n",
        "df2 = pd.read_csv('drive/MyDrive/Contelligenz Data Science/Datasets/user_item_interactions_implicit_binary_v1.csv')"
      ],
      "execution_count": null,
      "outputs": []
    },
    {
      "cell_type": "code",
      "metadata": {
        "colab": {
          "base_uri": "https://localhost:8080/",
          "height": 341
        },
        "id": "RE1xyQL6Ngj7",
        "outputId": "bfa4dcb7-375f-47c0-f482-e0b6d28c173a"
      },
      "source": [
        "df.head()"
      ],
      "execution_count": null,
      "outputs": [
        {
          "output_type": "execute_result",
          "data": {
            "text/html": [
              "<div>\n",
              "<style scoped>\n",
              "    .dataframe tbody tr th:only-of-type {\n",
              "        vertical-align: middle;\n",
              "    }\n",
              "\n",
              "    .dataframe tbody tr th {\n",
              "        vertical-align: top;\n",
              "    }\n",
              "\n",
              "    .dataframe thead th {\n",
              "        text-align: right;\n",
              "    }\n",
              "</style>\n",
              "<table border=\"1\" class=\"dataframe\">\n",
              "  <thead>\n",
              "    <tr style=\"text-align: right;\">\n",
              "      <th></th>\n",
              "      <th>total_titles_viewed</th>\n",
              "      <th>startDate</th>\n",
              "      <th>latestDate</th>\n",
              "      <th>activeDuration</th>\n",
              "      <th>sessionsCount</th>\n",
              "      <th>sessionsperDay</th>\n",
              "      <th>total_view_minutes</th>\n",
              "      <th>avg_video_completion_rate</th>\n",
              "      <th>subscription_type</th>\n",
              "      <th>userAge</th>\n",
              "      <th>Recency</th>\n",
              "      <th>userType</th>\n",
              "      <th>userStatus</th>\n",
              "      <th>userid</th>\n",
              "      <th>user_title_recommendations</th>\n",
              "      <th>viewing_history</th>\n",
              "    </tr>\n",
              "  </thead>\n",
              "  <tbody>\n",
              "    <tr>\n",
              "      <th>0</th>\n",
              "      <td>1</td>\n",
              "      <td>2021-05-02</td>\n",
              "      <td>2021-05-02</td>\n",
              "      <td>1</td>\n",
              "      <td>1</td>\n",
              "      <td>1.000000</td>\n",
              "      <td>8.5</td>\n",
              "      <td>0.056242</td>\n",
              "      <td>Paid</td>\n",
              "      <td>24</td>\n",
              "      <td>24</td>\n",
              "      <td>Existing</td>\n",
              "      <td>Inactive</td>\n",
              "      <td>0</td>\n",
              "      <td>[200  30 233 212 302 199 266 198  37 252  77 1...</td>\n",
              "      <td>[43]</td>\n",
              "    </tr>\n",
              "    <tr>\n",
              "      <th>1</th>\n",
              "      <td>2</td>\n",
              "      <td>2021-05-08</td>\n",
              "      <td>2021-05-11</td>\n",
              "      <td>4</td>\n",
              "      <td>4</td>\n",
              "      <td>1.000000</td>\n",
              "      <td>142.5</td>\n",
              "      <td>0.989698</td>\n",
              "      <td>Paid</td>\n",
              "      <td>18</td>\n",
              "      <td>15</td>\n",
              "      <td>Existing</td>\n",
              "      <td>Active</td>\n",
              "      <td>1</td>\n",
              "      <td>[ 61 237 286 306 198  37 250  84  46  70 305  ...</td>\n",
              "      <td>[158, 190]</td>\n",
              "    </tr>\n",
              "    <tr>\n",
              "      <th>2</th>\n",
              "      <td>13</td>\n",
              "      <td>2021-05-02</td>\n",
              "      <td>2021-05-23</td>\n",
              "      <td>22</td>\n",
              "      <td>31</td>\n",
              "      <td>1.409091</td>\n",
              "      <td>744.0</td>\n",
              "      <td>5.820258</td>\n",
              "      <td>Paid</td>\n",
              "      <td>24</td>\n",
              "      <td>3</td>\n",
              "      <td>Existing</td>\n",
              "      <td>Active</td>\n",
              "      <td>3</td>\n",
              "      <td>[198 305 199 193 210 306 200  70 180  43  30 2...</td>\n",
              "      <td>[28, 37, 41, 72, 104, 163, 190, 230, 243, 261,...</td>\n",
              "    </tr>\n",
              "    <tr>\n",
              "      <th>3</th>\n",
              "      <td>5</td>\n",
              "      <td>2021-05-10</td>\n",
              "      <td>2021-05-21</td>\n",
              "      <td>12</td>\n",
              "      <td>23</td>\n",
              "      <td>1.916667</td>\n",
              "      <td>173.5</td>\n",
              "      <td>6.906419</td>\n",
              "      <td>Paid</td>\n",
              "      <td>16</td>\n",
              "      <td>5</td>\n",
              "      <td>Existing</td>\n",
              "      <td>Active</td>\n",
              "      <td>4</td>\n",
              "      <td>[198 193  30 286 199 306 305  43  61 200  70 2...</td>\n",
              "      <td>[75, 178, 210, 237, 266]</td>\n",
              "    </tr>\n",
              "    <tr>\n",
              "      <th>4</th>\n",
              "      <td>8</td>\n",
              "      <td>2021-05-02</td>\n",
              "      <td>2021-05-24</td>\n",
              "      <td>23</td>\n",
              "      <td>21</td>\n",
              "      <td>0.913043</td>\n",
              "      <td>451.0</td>\n",
              "      <td>6.905010</td>\n",
              "      <td>Paid</td>\n",
              "      <td>24</td>\n",
              "      <td>2</td>\n",
              "      <td>Existing</td>\n",
              "      <td>Active</td>\n",
              "      <td>5</td>\n",
              "      <td>[198 305 286 193  30 306  43 277 180 264  77 2...</td>\n",
              "      <td>[40, 70, 104, 155, 204, 233, 250, 266]</td>\n",
              "    </tr>\n",
              "  </tbody>\n",
              "</table>\n",
              "</div>"
            ],
            "text/plain": [
              "   total_titles_viewed  ...                                    viewing_history\n",
              "0                    1  ...                                               [43]\n",
              "1                    2  ...                                         [158, 190]\n",
              "2                   13  ...  [28, 37, 41, 72, 104, 163, 190, 230, 243, 261,...\n",
              "3                    5  ...                           [75, 178, 210, 237, 266]\n",
              "4                    8  ...             [40, 70, 104, 155, 204, 233, 250, 266]\n",
              "\n",
              "[5 rows x 16 columns]"
            ]
          },
          "metadata": {},
          "execution_count": 6
        }
      ]
    },
    {
      "cell_type": "code",
      "metadata": {
        "colab": {
          "base_uri": "https://localhost:8080/",
          "height": 203
        },
        "id": "IcTZS6EtNiD7",
        "outputId": "d1cfd41c-17f7-4670-bea0-14681e8b0094"
      },
      "source": [
        "df2.head()"
      ],
      "execution_count": null,
      "outputs": [
        {
          "output_type": "execute_result",
          "data": {
            "text/html": [
              "<div>\n",
              "<style scoped>\n",
              "    .dataframe tbody tr th:only-of-type {\n",
              "        vertical-align: middle;\n",
              "    }\n",
              "\n",
              "    .dataframe tbody tr th {\n",
              "        vertical-align: top;\n",
              "    }\n",
              "\n",
              "    .dataframe thead th {\n",
              "        text-align: right;\n",
              "    }\n",
              "</style>\n",
              "<table border=\"1\" class=\"dataframe\">\n",
              "  <thead>\n",
              "    <tr style=\"text-align: right;\">\n",
              "      <th></th>\n",
              "      <th>userid</th>\n",
              "      <th>video_id</th>\n",
              "      <th>views</th>\n",
              "    </tr>\n",
              "  </thead>\n",
              "  <tbody>\n",
              "    <tr>\n",
              "      <th>0</th>\n",
              "      <td>ebbb77a5e7d1b4083342281ee8b1509cdb486f3b2df993...</td>\n",
              "      <td>1dd5c35f-015a-4529-9d60-8d185b3f6d9f</td>\n",
              "      <td>1.0</td>\n",
              "    </tr>\n",
              "    <tr>\n",
              "      <th>1</th>\n",
              "      <td>ebbb8da9-12e9-4826-9d5f-788f7bf2a76e</td>\n",
              "      <td>7eb9b774-9256-4e1b-88a7-22ab39f8e1ad</td>\n",
              "      <td>1.0</td>\n",
              "    </tr>\n",
              "    <tr>\n",
              "      <th>2</th>\n",
              "      <td>ebbb8da9-12e9-4826-9d5f-788f7bf2a76e</td>\n",
              "      <td>918ca200-8d2a-4236-a825-9ba26d75d922</td>\n",
              "      <td>0.0</td>\n",
              "    </tr>\n",
              "    <tr>\n",
              "      <th>3</th>\n",
              "      <td>ebbba3b51cd791646e1bce9dfab33f41f9c0d742ef30c4...</td>\n",
              "      <td>1685b28d-1966-4d5a-8119-e8379d0f40a2</td>\n",
              "      <td>0.0</td>\n",
              "    </tr>\n",
              "    <tr>\n",
              "      <th>4</th>\n",
              "      <td>ebbba3b51cd791646e1bce9dfab33f41f9c0d742ef30c4...</td>\n",
              "      <td>326d790b-8e0b-4639-8129-53d22a740bfe</td>\n",
              "      <td>1.0</td>\n",
              "    </tr>\n",
              "  </tbody>\n",
              "</table>\n",
              "</div>"
            ],
            "text/plain": [
              "                                              userid  ... views\n",
              "0  ebbb77a5e7d1b4083342281ee8b1509cdb486f3b2df993...  ...   1.0\n",
              "1               ebbb8da9-12e9-4826-9d5f-788f7bf2a76e  ...   1.0\n",
              "2               ebbb8da9-12e9-4826-9d5f-788f7bf2a76e  ...   0.0\n",
              "3  ebbba3b51cd791646e1bce9dfab33f41f9c0d742ef30c4...  ...   0.0\n",
              "4  ebbba3b51cd791646e1bce9dfab33f41f9c0d742ef30c4...  ...   1.0\n",
              "\n",
              "[5 rows x 3 columns]"
            ]
          },
          "metadata": {},
          "execution_count": 10
        }
      ]
    },
    {
      "cell_type": "code",
      "metadata": {
        "colab": {
          "base_uri": "https://localhost:8080/"
        },
        "id": "zR-o_axZOR-X",
        "outputId": "7ffe3640-5aa4-4dc2-a74e-6f0d5b839269"
      },
      "source": [
        "df.info()"
      ],
      "execution_count": null,
      "outputs": [
        {
          "output_type": "stream",
          "name": "stdout",
          "text": [
            "<class 'pandas.core.frame.DataFrame'>\n",
            "RangeIndex: 39005 entries, 0 to 39004\n",
            "Data columns (total 16 columns):\n",
            " #   Column                      Non-Null Count  Dtype  \n",
            "---  ------                      --------------  -----  \n",
            " 0   total_titles_viewed         39005 non-null  int64  \n",
            " 1   startDate                   39005 non-null  object \n",
            " 2   latestDate                  39005 non-null  object \n",
            " 3   activeDuration              39005 non-null  int64  \n",
            " 4   sessionsCount               39005 non-null  int64  \n",
            " 5   sessionsperDay              39005 non-null  float64\n",
            " 6   total_view_minutes          39005 non-null  float64\n",
            " 7   avg_video_completion_rate   39005 non-null  float64\n",
            " 8   subscription_type           39005 non-null  object \n",
            " 9   userAge                     39005 non-null  int64  \n",
            " 10  Recency                     39005 non-null  int64  \n",
            " 11  userType                    39005 non-null  object \n",
            " 12  userStatus                  39005 non-null  object \n",
            " 13  userid                      39005 non-null  int64  \n",
            " 14  user_title_recommendations  39005 non-null  object \n",
            " 15  viewing_history             39005 non-null  object \n",
            "dtypes: float64(3), int64(6), object(7)\n",
            "memory usage: 4.8+ MB\n"
          ]
        }
      ]
    },
    {
      "cell_type": "code",
      "metadata": {
        "colab": {
          "base_uri": "https://localhost:8080/"
        },
        "id": "YeQv0bI1ObVx",
        "outputId": "de0a7851-b774-49b0-de3c-d797081b8074"
      },
      "source": [
        "df2.info()"
      ],
      "execution_count": null,
      "outputs": [
        {
          "output_type": "stream",
          "name": "stdout",
          "text": [
            "<class 'pandas.core.frame.DataFrame'>\n",
            "RangeIndex: 254076 entries, 0 to 254075\n",
            "Data columns (total 3 columns):\n",
            " #   Column    Non-Null Count   Dtype  \n",
            "---  ------    --------------   -----  \n",
            " 0   userid    254076 non-null  object \n",
            " 1   video_id  254076 non-null  object \n",
            " 2   views     254076 non-null  float64\n",
            "dtypes: float64(1), object(2)\n",
            "memory usage: 5.8+ MB\n"
          ]
        }
      ]
    },
    {
      "cell_type": "code",
      "metadata": {
        "id": "6RxEHI4MQd-S"
      },
      "source": [
        ""
      ],
      "execution_count": null,
      "outputs": []
    }
  ]
}